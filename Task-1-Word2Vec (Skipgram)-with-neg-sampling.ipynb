{
 "cells": [
  {
   "attachments": {},
   "cell_type": "markdown",
   "metadata": {},
   "source": [
    "# Word2Vec (Skipgram ) with Negative Sampling"
   ]
  },
  {
   "cell_type": "markdown",
   "metadata": {},
   "source": [
    "### Library Imports\n",
    "\n",
    "This section imports all the necessary libraries required for the project. The libraries are used for various purposes such as numerical operations, deep learning model creation and optimization, data visualization, and natural language processing. Specifically:\n",
    "\n",
    "- `numpy`: Fundamental package for scientific computing with Python.\n",
    "- `torch`: A deep learning framework that provides a flexible platform for research and production.\n",
    "- `torch.nn`: A sub-library of PyTorch for building neural networks.\n",
    "- `torch.optim`: A sub-library of PyTorch for optimizing models.\n",
    "- `matplotlib`: A plotting library for creating static, interactive, and animated visualizations in Python.\n",
    "- `nltk`: A leading platform for building Python programs to work with human language data (Natural Language Processing).\n",
    "- `json`  A library for parsing and manipulating JSON data\n",
    "- `string`  A library for processing string\n",
    "\n"
   ]
  },
  {
   "cell_type": "code",
   "execution_count": 2,
   "metadata": {},
   "outputs": [],
   "source": [
    "import numpy as np\n",
    "import torch\n",
    "import torch.nn as nn\n",
    "import torch.optim as optim\n",
    "import matplotlib\n",
    "import matplotlib.pyplot as plt\n",
    "import time\n",
    "import nltk\n",
    "from nltk.corpus import reuters\n",
    "import json \n",
    "import string"
   ]
  },
  {
   "cell_type": "markdown",
   "metadata": {},
   "source": [
    "In this section, we ensure that the necessary libraries are properly installed and check their versions. \n",
    "- `matplotlib` for plotting and visualizations.\n",
    "- `numpy` (imported as `np`) for numerical operations.\n",
    "- `torch` for deep learning tasks.\n"
   ]
  },
  {
   "cell_type": "code",
   "execution_count": 3,
   "metadata": {},
   "outputs": [
    {
     "data": {
      "text/plain": [
       "('3.7.2', '1.26.0', '2.1.1')"
      ]
     },
     "execution_count": 3,
     "metadata": {},
     "output_type": "execute_result"
    }
   ],
   "source": [
    "# Check the version of matplotlib, numpy, and torch to ensure compatibility and reproducibility\n",
    "matplotlib.__version__, np.__version__, torch.__version__"
   ]
  },
  {
   "attachments": {},
   "cell_type": "markdown",
   "metadata": {},
   "source": [
    "## 1. Load data"
   ]
  },
  {
   "cell_type": "markdown",
   "metadata": {},
   "source": [
    "In this section, we download additional resources from the NLTK library. These resources are essential for natural language processing tasks involving the Reuters corpus and tokenization. Specifically:\n",
    "\n",
    "- `reuters`: A dataset of news documents. The Reuters corpus is widely used in text classification tasks.\n",
    "- `punkt`: A tokenizer model. This is used by the NLTK library to split texts into lists of sentences or lists of words.\n"
   ]
  },
  {
   "cell_type": "code",
   "execution_count": 4,
   "metadata": {},
   "outputs": [
    {
     "name": "stderr",
     "output_type": "stream",
     "text": [
      "[nltk_data] Downloading package reuters to\n",
      "[nltk_data]     /Users/shafisourov/nltk_data...\n",
      "[nltk_data]   Package reuters is already up-to-date!\n",
      "[nltk_data] Downloading package punkt to\n",
      "[nltk_data]     /Users/shafisourov/nltk_data...\n",
      "[nltk_data]   Package punkt is already up-to-date!\n"
     ]
    },
    {
     "data": {
      "text/plain": [
       "True"
      ]
     },
     "execution_count": 4,
     "metadata": {},
     "output_type": "execute_result"
    }
   ],
   "source": [
    "nltk.download('reuters')  # Download the Reuters corpus for text classification tasks\n",
    "nltk.download('punkt')  # Download the Punkt tokenizer model for sentence splitting"
   ]
  },
  {
   "cell_type": "markdown",
   "metadata": {},
   "source": [
    "\n",
    "Here we load the Reuters corpus into our workspace. The `reuters.sents()` function provided by NLTK is used to load the sentences of the Reuters corpus. \n",
    "\n"
   ]
  },
  {
   "cell_type": "code",
   "execution_count": 5,
   "metadata": {},
   "outputs": [],
   "source": [
    "corpus_nltk = reuters.sents()  # Load sentences from the Reuters corpus using NLTK"
   ]
  },
  {
   "cell_type": "markdown",
   "metadata": {},
   "source": [
    "### Sentence Flattening and Tokenization\n",
    "\n",
    "In this section, we perform two key preprocessing steps on the Reuters corpus:\n",
    "\n",
    "1. **Sentence Flattening**: We convert the list of sentences (where each sentence is a list of words) into a list of sentences where each sentence is a single string. This makes it suitable for further processing such as tokenization.\n",
    "\n",
    "2. **Tokenization**: We then tokenize each sentence. Tokenization involves splitting sentences into individual words or tokens. This is a crucial step in natural language processing as it prepares the text data for techniques like word embedding or bag-of-words. We also convert all the text to lowercase to maintain consistency and reduce the complexity of the dataset.\n"
   ]
  },
  {
   "cell_type": "code",
   "execution_count": 6,
   "metadata": {},
   "outputs": [],
   "source": [
    "# Flatten the list of sentences and then tokenize each sentence\n",
    "corpus_nltk = [\" \".join(sent) for sent in corpus_nltk]\n",
    "corpus_nltk = [nltk.word_tokenize(sent.lower()) for sent in corpus_nltk]"
   ]
  },
  {
   "cell_type": "code",
   "execution_count": null,
   "metadata": {},
   "outputs": [
    {
     "name": "stdout",
     "output_type": "stream",
     "text": [
      "Total Passages in the corpus 54716\n",
      "Total Tokens in the corpus 1720917\n"
     ]
    }
   ],
   "source": [
    "flatten = lambda l: [item for sublist in l for item in sublist]\n",
    "# Calculate total number of tokens in the corpus\n",
    "total_tokens = sum(len(sentence) for sentence in corpus_nltk)\n",
    "print(\"Total Passages in the corpus\",len(corpus_nltk))\n",
    "print(\"Total Tokens in the corpus\",total_tokens)"
   ]
  },
  {
   "cell_type": "markdown",
   "metadata": {},
   "source": [
    "### Creating a Subset of the Corpus\n",
    "\n",
    "For the purpose of efficiency or demonstration, we often work with a smaller subset of the entire dataset. In this section, we create a smaller corpus named `corpus` by selecting the first 500 entries from the preprocessed `corpus_nltk`.\n"
   ]
  },
  {
   "cell_type": "code",
   "execution_count": 7,
   "metadata": {},
   "outputs": [],
   "source": [
    "corpus = corpus_nltk[:500]  # Select the first 500 elements to create a smaller corpus for quick operations"
   ]
  },
  {
   "cell_type": "markdown",
   "metadata": {},
   "source": [
    "### Vocabulary Creation\n",
    "\n",
    "In this section, we prepare the vocabulary of our corpus. This involves two main steps:\n",
    "\n",
    "1. **Flattening the Corpus**: We convert our corpus from a list of sentences (where each sentence is a list of tokens) into a flat list of tokens. This is done using a lambda function for list flattening.\n",
    "\n",
    "2. **Creating Unique Vocabulary**: We then convert our flat list of tokens into a set, which automatically removes duplicates, giving us a list of unique words in our corpus. This vocabulary (`vocabs`) will be fundamental for tasks such as word embedding or encoding our textual data for machine learning models.\n",
    "\n",
    "Note: In this process, we do not include the special token `<UNK>` which is often used to represent unknown words in NLP tasks.\n"
   ]
  },
  {
   "cell_type": "code",
   "execution_count": 8,
   "metadata": {},
   "outputs": [],
   "source": [
    "#find unique words\n",
    "flatten = lambda l: [item for sublist in l for item in sublist]\n",
    "#assign unique integer\n",
    "vocabs = list(set(flatten(corpus))) #all the words we have in the system - <UNK>"
   ]
  },
  {
   "cell_type": "code",
   "execution_count": 9,
   "metadata": {},
   "outputs": [],
   "source": [
    "#append UNK\n",
    "vocabs.append('<UNK>')"
   ]
  },
  {
   "cell_type": "code",
   "execution_count": null,
   "metadata": {},
   "outputs": [
    {
     "name": "stdout",
     "output_type": "stream",
     "text": [
      "Total Passages Taken for training  500\n",
      "Total Tokens Taken for training 2678\n"
     ]
    }
   ],
   "source": [
    "print(\"Total Passages Taken for training \",len(corpus))\n",
    "print(\"Total Tokens Taken for training\",len(vocabs))"
   ]
  },
  {
   "cell_type": "markdown",
   "metadata": {},
   "source": [
    "#### Creating Word to Index Mapping\n",
    "\n",
    "After creating our vocabulary, it's essential to be able to convert our textual data to numerical format, as most algorithms require numerical input. In this section, we create a mapping from words to unique integers. \n",
    "\n",
    "This mapping (`word2index`) will serve as a dictionary where each word from our vocabulary is associated with a unique\n"
   ]
  },
  {
   "cell_type": "code",
   "execution_count": 10,
   "metadata": {},
   "outputs": [],
   "source": [
    "#create handy mapping between integer and word\n",
    "word2index = {v:idx for idx, v in enumerate(vocabs)}"
   ]
  },
  {
   "cell_type": "code",
   "execution_count": 11,
   "metadata": {},
   "outputs": [],
   "source": [
    "word2index['<UNK>'] = len(vocabs)-1"
   ]
  },
  {
   "cell_type": "markdown",
   "metadata": {},
   "source": [
    "#### Creating Index to Word Mapping\n",
    "\n",
    "\n",
    "While the word to index mapping is crucial for encoding textual data, it's equally important to be able to decode the numerical data back to text. \n",
    "\n",
    "This reverse mapping (`index2word`) allows us to convert our numerical data back into readable text.\n"
   ]
  },
  {
   "cell_type": "code",
   "execution_count": 12,
   "metadata": {},
   "outputs": [],
   "source": [
    "index2word = {v: k for k, v in word2index.items()}  # Create a reverse mapping of integer to word"
   ]
  },
  {
   "attachments": {},
   "cell_type": "markdown",
   "metadata": {},
   "source": [
    "## 2. Prepare train data"
   ]
  },
  {
   "cell_type": "markdown",
   "metadata": {},
   "source": [
    "#### Generating Skip-gram Training Batches\n",
    "\n",
    "In this section, we define the function `random_batch` to generate training data for the Skip-gram neg sampling model. The Skip-gram model tries to predict context (outside) words given a center word. The key steps in the function include:\n",
    "\n",
    "1. **Skip-gram Pair Generation**: For each word in the corpus (considering words only within a specified window size), we create pairs consisting of the center word and the outside words. \n",
    "\n",
    "2. **Handling Unknown Words**: If a word is not found in the `word2index` dictionary, it is treated as an unknown word `<UNK>`.\n",
    "\n",
    "3. **Random Sampling**: Once we have all possible pairs, we randomly sample a specified number of them to create a batch. This randomness helps in training the Skip-gram model by providing a variety of contexts.\n",
    "\n",
    "4. **Preparing Inputs and Labels**: The sampled pairs are split into inputs (center words) and labels (outside words) which are then returned.\n",
    "\n",
    "Lastly, we demonstrate the usage of this function by generating a batch of 2 samples.\n"
   ]
  },
  {
   "cell_type": "code",
   "execution_count": 13,
   "metadata": {},
   "outputs": [],
   "source": [
    "#create pairs of center word, and outside word\n",
    "\n",
    "def random_batch(batch_size, corpus, window_size=2):\n",
    "\n",
    "    skipgrams = []\n",
    "\n",
    "    #loop each corpus\n",
    "    for doc in corpus:\n",
    "        #look from the 2nd word until second last word\n",
    "        for i in range(window_size, len(doc)-window_size):\n",
    "            #center word\n",
    "            center = word2index.get(doc[i], word2index['<UNK>'])\n",
    "            #outside words = 2 words\n",
    "            outside = [word2index.get(doc[j], word2index['<UNK>']) for j in range(i - window_size, i + window_size + 1) if j != i]\n",
    "            #for each of these two outside words, we gonna append to a list\n",
    "            for each_out in outside:\n",
    "                skipgrams.append([center, each_out])\n",
    "                #center, outside1;   center, outside2\n",
    "                \n",
    "    random_index = np.random.choice(range(len(skipgrams)), batch_size, replace=False)\n",
    "    \n",
    "    inputs, labels = [], []\n",
    "    for index in random_index:\n",
    "        inputs.append([skipgrams[index][0]])\n",
    "        labels.append([skipgrams[index][1]])\n",
    "        \n",
    "    return np.array(inputs), np.array(labels)\n",
    "            \n",
    "x, y = random_batch(2, corpus)"
   ]
  },
  {
   "cell_type": "markdown",
   "metadata": {},
   "source": [
    "## 3. Negative Sampling\n",
    "\n",
    "### Unigram distribution\n",
    "\n",
    "$$P(w)=U(w)^{3/4}/Z$$"
   ]
  },
  {
   "cell_type": "code",
   "execution_count": 14,
   "metadata": {},
   "outputs": [],
   "source": [
    "z = 0.001"
   ]
  },
  {
   "cell_type": "code",
   "execution_count": 15,
   "metadata": {},
   "outputs": [
    {
     "data": {
      "text/plain": [
       "15124"
      ]
     },
     "execution_count": 15,
     "metadata": {},
     "output_type": "execute_result"
    }
   ],
   "source": [
    "#count\n",
    "from collections import Counter\n",
    "\n",
    "word_count = Counter(flatten(corpus))\n",
    "word_count\n",
    "\n",
    "#get the total number of words\n",
    "num_total_words = sum([c for w, c in word_count.items()])\n",
    "num_total_words"
   ]
  },
  {
   "cell_type": "markdown",
   "metadata": {},
   "source": [
    "$$P(w)=U(w)^{3/4}/Z$$"
   ]
  },
  {
   "cell_type": "code",
   "execution_count": 16,
   "metadata": {},
   "outputs": [],
   "source": [
    "unigram_table = []\n",
    "\n",
    "for v in vocabs:\n",
    "    uw = word_count[v] / num_total_words\n",
    "    uw_alpha = int((uw ** 0.75) / z)\n",
    "    unigram_table.extend([v] * uw_alpha)\n"
   ]
  },
  {
   "attachments": {},
   "cell_type": "markdown",
   "metadata": {},
   "source": [
    "## 4. Model\n",
    "\n",
    "$$\\mathbf{J}_{\\text{neg-sample}}(\\mathbf{v}_c,o,\\mathbf{U})=-\\log(\\sigma(\\mathbf{u}_o^T\\mathbf{v}_c))-\\sum_{k=1}^K\\log(\\sigma(-\\mathbf{u}_k^T\\mathbf{v}_c))$$"
   ]
  },
  {
   "attachments": {},
   "cell_type": "markdown",
   "metadata": {},
   "source": [
    "$$P(o|c)=\\frac{\\exp(\\mathbf{u_o^{\\top}v_c})}{\\sum_{w=1}^V\\exp(\\mathbf{u_w^{\\top}v_c})}$$"
   ]
  },
  {
   "cell_type": "markdown",
   "metadata": {},
   "source": [
    "Before training the Skip-gram model, we need to convert our textual data (words) into a numerical format (integers) as models work with numbers. \n",
    "\n",
    " **Sequence Preparation Function**: We define the `prepare_sequence` function, which converts a sequence of words into a sequence of corresponding integers based on the `word2index` dictionary. If a word is not found in the dictionary, it is treated as an unknown word `<UNK>`. This function is crucial for processing our textual data into a format suitable for the Skip-gram model."
   ]
  },
  {
   "cell_type": "code",
   "execution_count": 17,
   "metadata": {},
   "outputs": [],
   "source": [
    "def prepare_sequence(seq, word2index):\n",
    "    idxs = list(map(lambda w: word2index[w] if word2index.get(w) is not None else word2index['<UNK>'], seq))\n",
    "    return torch.LongTensor(idxs)"
   ]
  },
  {
   "cell_type": "markdown",
   "metadata": {},
   "source": [
    "The following code takes target words, a unigram table, and the number of negative samples (k) as inputs.\n",
    "It iterates through each target word to generate k negative samples.\n",
    "\n",
    "Negative samples are randomly selected from the unigram table, ensuring they are not the same as the target word.\n",
    "The resulting negative samples are returned as a tensor"
   ]
  },
  {
   "cell_type": "code",
   "execution_count": 18,
   "metadata": {},
   "outputs": [],
   "source": [
    "import random\n",
    "\n",
    "def negative_sampling(targets, unigram_table, k):\n",
    "    batch_size = targets.shape[0]\n",
    "    neg_samples = []\n",
    "    for i in range(batch_size):  #(1, k)\n",
    "        target_index = targets[i].item()\n",
    "        nsample      = []\n",
    "        while (len(nsample) < k):\n",
    "            neg = random.choice(unigram_table)\n",
    "            if word2index[neg] == target_index:\n",
    "                continue\n",
    "            nsample.append(neg)\n",
    "        neg_samples.append(prepare_sequence(nsample, word2index).reshape(1, -1))\n",
    "        \n",
    "    return torch.cat(neg_samples) #batch_size, k"
   ]
  },
  {
   "cell_type": "code",
   "execution_count": 19,
   "metadata": {},
   "outputs": [],
   "source": [
    "batch_size = 2\n",
    "x, y = random_batch(batch_size, corpus)\n",
    "x_tensor = torch.LongTensor(x)\n",
    "y_tensor = torch.LongTensor(y)"
   ]
  },
  {
   "cell_type": "code",
   "execution_count": 20,
   "metadata": {},
   "outputs": [],
   "source": [
    "k = 5\n",
    "neg_samples = negative_sampling(y_tensor, unigram_table, k)"
   ]
  },
  {
   "cell_type": "code",
   "execution_count": 21,
   "metadata": {},
   "outputs": [
    {
     "data": {
      "text/plain": [
       "tensor([1957])"
      ]
     },
     "execution_count": 21,
     "metadata": {},
     "output_type": "execute_result"
    }
   ],
   "source": [
    "y_tensor[1]"
   ]
  },
  {
   "cell_type": "code",
   "execution_count": 22,
   "metadata": {},
   "outputs": [
    {
     "data": {
      "text/plain": [
       "tensor([ 871,  368,  606, 2570, 1657])"
      ]
     },
     "execution_count": 22,
     "metadata": {},
     "output_type": "execute_result"
    }
   ],
   "source": [
    "neg_samples[1]"
   ]
  },
  {
   "cell_type": "markdown",
   "metadata": {},
   "source": [
    "$$\\mathbf{J}_{\\text{neg-sample}}(\\mathbf{v}_c,o,\\mathbf{U})=-\\log(\\sigma(\\mathbf{u}_o^T\\mathbf{v}_c))-\\sum_{k=1}^K\\log(\\sigma(-\\mathbf{u}_k^T\\mathbf{v}_c))$$"
   ]
  },
  {
   "cell_type": "markdown",
   "metadata": {},
   "source": [
    "This code defines a SkipgramNeg class, which is a PyTorch neural network module for training word embeddings using the Skip-gram with Negative Sampling (SkipgramNeg) approach."
   ]
  },
  {
   "cell_type": "code",
   "execution_count": 23,
   "metadata": {},
   "outputs": [],
   "source": [
    "class SkipgramNeg(nn.Module):\n",
    "    \n",
    "    def __init__(self, voc_size, emb_size):\n",
    "        super(SkipgramNeg, self).__init__()\n",
    "        self.embedding_center  = nn.Embedding(voc_size, emb_size)\n",
    "        self.embedding_outside = nn.Embedding(voc_size, emb_size)\n",
    "        self.logsigmoid        = nn.LogSigmoid()\n",
    "    \n",
    "    def forward(self, center, outside, negative):\n",
    "        #center, outside:  (bs, 1)\n",
    "        #negative       :  (bs, k)\n",
    "        \n",
    "        center_embed   = self.embedding_center(center) #(bs, 1, emb_size)\n",
    "        outside_embed  = self.embedding_outside(outside) #(bs, 1, emb_size)\n",
    "        negative_embed = self.embedding_outside(negative) #(bs, k, emb_size)\n",
    "        \n",
    "        uovc           = outside_embed.bmm(center_embed.transpose(1, 2)).squeeze(2) #(bs, 1)\n",
    "        ukvc           = -negative_embed.bmm(center_embed.transpose(1, 2)).squeeze(2) #(bs, k)\n",
    "        ukvc_sum       = torch.sum(ukvc, 1).reshape(-1, 1) #(bs, 1)\n",
    "        \n",
    "        loss           = self.logsigmoid(uovc) + self.logsigmoid(ukvc_sum)\n",
    "        \n",
    "        return -torch.mean(loss)"
   ]
  },
  {
   "cell_type": "code",
   "execution_count": 24,
   "metadata": {},
   "outputs": [],
   "source": [
    "#test our model\n",
    "emb_size = 2\n",
    "voc_size = len(vocabs)\n",
    "model = SkipgramNeg(voc_size, emb_size)"
   ]
  },
  {
   "cell_type": "code",
   "execution_count": 25,
   "metadata": {},
   "outputs": [],
   "source": [
    "loss = model(x_tensor, y_tensor, neg_samples)"
   ]
  },
  {
   "cell_type": "code",
   "execution_count": 26,
   "metadata": {},
   "outputs": [
    {
     "data": {
      "text/plain": [
       "tensor(2.2915, grad_fn=<NegBackward0>)"
      ]
     },
     "execution_count": 26,
     "metadata": {},
     "output_type": "execute_result"
    }
   ],
   "source": [
    "loss\n"
   ]
  },
  {
   "attachments": {},
   "cell_type": "markdown",
   "metadata": {},
   "source": [
    "## 5. Training"
   ]
  },
  {
   "cell_type": "markdown",
   "metadata": {},
   "source": [
    "This line initializes an Adam optimizer for updating the parameters of a given model, with a learning rate of 0.001, to be used in the training process of a neural network."
   ]
  },
  {
   "cell_type": "code",
   "execution_count": 27,
   "metadata": {},
   "outputs": [],
   "source": [
    "optimizer = optim.Adam(model.parameters(), lr=0.001)"
   ]
  },
  {
   "cell_type": "markdown",
   "metadata": {},
   "source": [
    "\n",
    "This code is a training loop for a neural network, It involves:\n",
    "\n",
    "- Generating data batches and converting them into tensors.\n",
    "- Forward-passing the data through the model and computing the loss.\n",
    "- Backpropagating the loss and updating the model parameters using the Adam optimizer.\n",
    "- Tracking and reporting the loss every 1,000 epochs, along with the epoch duration.\n",
    "- Finally, it prints the average loss and total training time after completing all epochs."
   ]
  },
  {
   "cell_type": "code",
   "execution_count": 28,
   "metadata": {},
   "outputs": [
    {
     "name": "stdout",
     "output_type": "stream",
     "text": [
      "Epoch: 1000 | cost: 1.518478 | time: 0m 0s\n",
      "Epoch: 2000 | cost: 1.173971 | time: 0m 0s\n",
      "Epoch: 3000 | cost: 2.761546 | time: 0m 0s\n",
      "Epoch: 4000 | cost: 1.839267 | time: 0m 0s\n",
      "Epoch: 5000 | cost: 0.335878 | time: 0m 0s\n",
      "Epoch: 6000 | cost: 3.018760 | time: 0m 0s\n",
      "Epoch: 7000 | cost: 2.547971 | time: 0m 0s\n",
      "Epoch: 8000 | cost: 2.184673 | time: 0m 0s\n",
      "Epoch: 9000 | cost: 1.475477 | time: 0m 0s\n",
      "Epoch: 10000 | cost: 1.204727 | time: 0m 0s\n",
      "Total training time: 17m 8s\n",
      "Average training loss: 1.977957\n"
     ]
    }
   ],
   "source": [
    "num_epochs = 10000\n",
    "\n",
    "total_loss = 0.0  # Initialize total loss\n",
    "total_start = time.time()  # Start time for total training time\n",
    "\n",
    "for epoch in range(num_epochs):\n",
    "    start = time.time()  # Start time for the epoch\n",
    "    #get batch\n",
    "    input_batch, label_batch = random_batch(batch_size, corpus)\n",
    "    input_tensor = torch.LongTensor(input_batch)\n",
    "    label_tensor = torch.LongTensor(label_batch)\n",
    "    \n",
    "    #predict\n",
    "    neg_samples = negative_sampling(label_tensor, unigram_table, k)\n",
    "    loss = model(input_tensor, label_tensor, neg_samples)\n",
    "    \n",
    "    #backprogate\n",
    "    optimizer.zero_grad()\n",
    "    loss.backward()\n",
    "    \n",
    "    #update alpha\n",
    "    optimizer.step()\n",
    "    \n",
    "    # Accumulate loss\n",
    "    total_loss += loss.item()\n",
    "\n",
    "    end = time.time()  # End time for the epoch\n",
    "    \n",
    "    # Calculate time taken for the epoch\n",
    "    epoch_mins, epoch_secs = divmod(end - start, 60)\n",
    "    \n",
    "    # Print the loss and time taken for the epoch\n",
    "    if (epoch + 1) % 1000 == 0:\n",
    "        print(f\"Epoch: {epoch + 1} | cost: {loss:.6f} | time: {epoch_mins:.0f}m {epoch_secs:.0f}s\")\n",
    "\n",
    "# Compute average loss\n",
    "average_loss = total_loss / num_epochs\n",
    "\n",
    "total_end = time.time()  # End time for total training time\n",
    "total_mins, total_secs = divmod(total_end - total_start, 60)\n",
    "\n",
    "# Print the total training time and average loss\n",
    "print(f\"Total training time: {total_mins:.0f}m {total_secs:.0f}s\")\n",
    "print(f\"Average training loss: {average_loss:.6f}\")"
   ]
  },
  {
   "attachments": {},
   "cell_type": "markdown",
   "metadata": {},
   "source": [
    "## 5. Plot the embeddings\n"
   ]
  },
  {
   "cell_type": "markdown",
   "metadata": {},
   "source": [
    "\n",
    "In this section, we visualize the word embeddings learned by the Skip-gram model. We plot a subset of words from our vocabulary on a 2D plane. Each point in the plot corresponds to the 2-dimensional embedding of a word, and the point is annotated with the word itself. This visualization helps in understanding the relationships and similarities between different words as captured by the model.\n",
    "\n",
    "We choose a subset of words (from index 40 to 80 in the vocabulary) for a clear and uncluttered visualization. This subset can be adjusted based on specific interests or requirements.\n"
   ]
  },
  {
   "cell_type": "code",
   "execution_count": 29,
   "metadata": {},
   "outputs": [],
   "source": [
    "def get_embed(word):\n",
    "    # Retrieve the embedding of a word from the Skipgram Neg Sampling model\n",
    "    try:\n",
    "        # Try to find the word's index in the word2index dictionary\n",
    "        index = word2index[word]\n",
    "    except:\n",
    "        # If the word is not found, use the index of the special unknown word token <UNK>\n",
    "        index = word2index['<UNK>']\n",
    "    \n",
    "    # Convert the word index to a PyTorch tensor\n",
    "    word_tensor = torch.LongTensor([index])\n",
    "    \n",
    "    # Get the embeddings from the center and outside embedding layers\n",
    "    embed_c = model.embedding_center(word_tensor)\n",
    "    embed_o = model.embedding_outside(word_tensor)\n",
    "    \n",
    "    # Average the center and outside embeddings to get the final word embedding\n",
    "    embed = (embed_c + embed_o) / 2\n",
    "    \n",
    "    # Return the embedding values as a tuple (x, y)\n",
    "    return embed[0][0].item(), embed[0][1].item()\n"
   ]
  },
  {
   "cell_type": "code",
   "execution_count": 30,
   "metadata": {},
   "outputs": [
    {
     "data": {
      "image/png": "[encoded data removed]",
      "text/plain": [
       "<Figure size 600x300 with 1 Axes>"
      ]
     },
     "metadata": {},
     "output_type": "display_data"
    }
   ],
   "source": [
    "plt.figure(figsize=(6, 3))\n",
    "for i, word in enumerate(vocabs[40:80]):\n",
    "    x, y = get_embed(word)\n",
    "    plt.scatter(x, y)\n",
    "    plt.annotate(word, xy=(x, y), xytext=(5, 2), textcoords='offset points')\n",
    "plt.show()"
   ]
  },
  {
   "attachments": {},
   "cell_type": "markdown",
   "metadata": {},
   "source": [
    "## 6. Cosine similarity"
   ]
  },
  {
   "cell_type": "code",
   "execution_count": 43,
   "metadata": {},
   "outputs": [
    {
     "data": {
      "text/plain": [
       "(1.0714093446731567, -0.8974266052246094)"
      ]
     },
     "execution_count": 43,
     "metadata": {},
     "output_type": "execute_result"
    }
   ],
   "source": [
    "cane = get_embed('cane')\n",
    "cane"
   ]
  },
  {
   "cell_type": "code",
   "execution_count": 38,
   "metadata": {},
   "outputs": [
    {
     "data": {
      "text/plain": [
       "(-0.16071438789367676, -0.19759634137153625)"
      ]
     },
     "execution_count": 38,
     "metadata": {},
     "output_type": "execute_result"
    }
   ],
   "source": [
    "commodity = get_embed('commodity')\n",
    "commodity"
   ]
  },
  {
   "cell_type": "code",
   "execution_count": 39,
   "metadata": {},
   "outputs": [
    {
     "data": {
      "text/plain": [
       "(-1.1641836166381836, 0.3215302526950836)"
      ]
     },
     "execution_count": 39,
     "metadata": {},
     "output_type": "execute_result"
    }
   ],
   "source": [
    "unk = get_embed('<UNK>')\n",
    "unk"
   ]
  },
  {
   "cell_type": "code",
   "execution_count": 44,
   "metadata": {},
   "outputs": [
    {
     "data": {
      "text/plain": [
       "-1.5358670089347015"
      ]
     },
     "execution_count": 44,
     "metadata": {},
     "output_type": "execute_result"
    }
   ],
   "source": [
    "np.array(cane) @ np.array(unk)"
   ]
  },
  {
   "cell_type": "code",
   "execution_count": 45,
   "metadata": {},
   "outputs": [
    {
     "data": {
      "text/plain": [
       "0.005137316829149086"
      ]
     },
     "execution_count": 45,
     "metadata": {},
     "output_type": "execute_result"
    }
   ],
   "source": [
    "np.array(cane) @ np.array(commodity)"
   ]
  },
  {
   "cell_type": "code",
   "execution_count": 47,
   "metadata": {},
   "outputs": [
    {
     "name": "stdout",
     "output_type": "stream",
     "text": [
      "-0.9098843721914851\n",
      "0.01443175953664608\n"
     ]
    }
   ],
   "source": [
    "def cosine_similarity(A, B):\n",
    "    # Compute the cosine similarity between vectors A and B\n",
    "    dot_product = np.dot(A, B)  # Compute the dot product of A and B\n",
    "    norm_a = np.linalg.norm(A)  # Compute the L2 norm (Euclidean norm) of vector A\n",
    "    norm_b = np.linalg.norm(B)  # Compute the L2 norm (Euclidean norm) of vector B\n",
    "    similarity = dot_product / (norm_a * norm_b)  # Compute the cosine similarity\n",
    "    return similarity  # Return the cosine similarity\n",
    "\n",
    "# Example usage of the cosine_similarity function\n",
    "print(cosine_similarity(np.array(cane), np.array(unk)))  \n",
    "print(cosine_similarity(np.array(cane), np.array(commodity)))  "
   ]
  },
  {
   "cell_type": "markdown",
   "metadata": {},
   "source": [
    "The cosine similarity results indicate:\n",
    "\n",
    "- A similarity of approximately -0.9098843721914851 between cane and unk suggests they are quite dissimilar or oppositely directed.\n",
    "- A similarity of 0.01443175953664608 between cane and commodity implies a  degree of similarity, suggesting similar meanings or contexts."
   ]
  },
  {
   "cell_type": "code",
   "execution_count": 26,
   "metadata": {},
   "outputs": [
    {
     "name": "stdout",
     "output_type": "stream",
     "text": [
      "-0.9220474076027145\n",
      "0.6874584642924795\n"
     ]
    }
   ],
   "source": [
    "#scipy version\n",
    "from scipy import spatial\n",
    "\n",
    "def cos_sim(a, b):\n",
    "    cos_sim = 1 - spatial.distance.cosine(a, b)  #distance = 1 - similarlity, because scipy only gives distance\n",
    "    return cos_sim\n",
    "print(cos_sim(np.array(rice), np.array(unk)))  # Print the similarity between 'business' and 'unk'\n",
    "print(cos_sim(np.array(rice), np.array(commodity)))  # Print the similarity between 'business' and 'economics'"
   ]
  },
  {
   "cell_type": "markdown",
   "metadata": {},
   "source": [
    "## 7. Saving Word-Index, Corpus , Embedding Model and Configureation for future-application"
   ]
  },
  {
   "cell_type": "markdown",
   "metadata": {},
   "source": [
    "#### Saving Word-Index Mappings\n",
    "\n",
    "To ensure the persistence of our word-index mappings and to facilitate their use in future sessions or applications, we save the `word2index` and `index2word` dictionaries to JSON files. "
   ]
  },
  {
   "cell_type": "code",
   "execution_count": 48,
   "metadata": {},
   "outputs": [],
   "source": [
    "word2index_path = './config_model_files/word2index_neg_sam.json'  # Define the file path for word2index\n",
    "index2word_path = './config_model_files/index2word_neg_sam.json'  # Define the file path for index2word\n",
    "\n",
    "with open(word2index_path, 'w') as file:\n",
    "    json.dump(word2index, file)  # Save the word2index dictionary to a JSON file\n",
    "\n",
    "with open(index2word_path, 'w') as file:\n",
    "    json.dump(index2word, file)  # Save the index2word dictionary to a JSON file\n"
   ]
  },
  {
   "cell_type": "markdown",
   "metadata": {},
   "source": [
    "#### Saving the Preprocessed Corpus\n",
    "\n",
    "After preprocessing the corpus (tokenization, cleaning, etc.), it's good practice to save it for future use. The corpus is saved in a plain text format, making it easily accessible and readable.\n"
   ]
  },
  {
   "cell_type": "code",
   "execution_count": 49,
   "metadata": {},
   "outputs": [],
   "source": [
    "corpus_path = './config_model_files/corpus_neg_sam.txt'  # Define the file path for the corpus\n",
    "\n",
    "with open(corpus_path, 'w') as file:\n",
    "    for sentence in corpus:\n",
    "        file.write(' '.join(sentence) + '\\n')  # Write each sentence to the file, separated by a newline\n"
   ]
  },
  {
   "cell_type": "markdown",
   "metadata": {},
   "source": [
    "#### Saving Word2Vec Model and Configuration\n",
    "\n",
    "To ensure the preservation and reusability of our Word2Vec model, we save both its state and configuration to separate files.\n",
    "\n",
    "1. **Saving Model State**: We save the state of the Word2Vec model using `torch.save()`. This includes the learned parameters and embeddings.\n",
    "\n",
    "2. **Saving Configuration**: We save the model's configuration, such as vocabulary size (`voc_size`) and embedding size (`emb_size`), to a JSON file. "
   ]
  },
  {
   "cell_type": "code",
   "execution_count": 50,
   "metadata": {},
   "outputs": [
    {
     "name": "stdout",
     "output_type": "stream",
     "text": [
      "Model saved to ./config_model_files/word2vec_model_neg_sam.pth\n",
      "Configuration saved to ./config_model_files/word2vec_config_neg_sam.json\n"
     ]
    }
   ],
   "source": [
    "# Model parameters\n",
    "voc_size = len(word2index)\n",
    "emb_size = emb_size  # or whatever was our configuration\n",
    "\n",
    "# Save the model state and configuration\n",
    "model_path = './config_model_files/word2vec_model_neg_sam.pth'\n",
    "config_path = './config_model_files/word2vec_config_neg_sam.json'\n",
    "torch.save(model.state_dict(), model_path)\n",
    "\n",
    "with open(config_path, 'w') as config_file:\n",
    "    config = {'voc_size': voc_size, 'emb_size': emb_size}\n",
    "    json.dump(config, config_file)\n",
    "\n",
    "print(f\"Model saved to {model_path}\")\n",
    "print(f\"Configuration saved to {config_path}\")\n"
   ]
  },
  {
   "cell_type": "markdown",
   "metadata": {},
   "source": [
    "## 8. Inference (Loading Model with an Application of Query-Based Passage Retrieval from Trained Corpus)\n",
    "\n",
    "here's a simplified high-level overview of the process in less than five steps:\n",
    "\n",
    "- Preprocess and Embed: Convert the input query and each passage in the corpus into numerical embeddings by averaging their word embeddings.\n",
    "- Calculate Similarities: Compute the similarity between the query's embedding and each passage's embedding using the dot product.\n",
    "- Rank Passages: Rank the passages based on their similarity scores with the query.\n",
    "- Retrieve Top Passages: Select and return the top N passages that have the highest similarity scores with the query."
   ]
  },
  {
   "cell_type": "markdown",
   "metadata": {},
   "source": [
    "#### Loading Word-Index Mappings"
   ]
  },
  {
   "cell_type": "code",
   "execution_count": 51,
   "metadata": {},
   "outputs": [],
   "source": [
    "word2index_path = './config_model_files/word2index_neg_sam.json'  \n",
    "index2word_path = './config_model_files/index2word_neg_sam.json' \n",
    "\n",
    "with open(word2index_path, 'r') as file:\n",
    "    word2index = json.load(file)  # Load the word2index dictionary from the JSON file\n",
    "\n",
    "with open(index2word_path, 'r') as file:\n",
    "    index2word = json.load(file)  # Load the index2word dictionary from the JSON file\n"
   ]
  },
  {
   "cell_type": "markdown",
   "metadata": {},
   "source": [
    "#### Loading the Preprocessed Corpus"
   ]
  },
  {
   "cell_type": "code",
   "execution_count": 53,
   "metadata": {},
   "outputs": [],
   "source": [
    "corpus_path = './config_model_files/corpus_neg_sam.txt' \n",
    "def load_corpus(file_path):\n",
    "    corpus = []\n",
    "    with open(file_path, 'r', encoding='utf-8') as file:\n",
    "        for line in file:\n",
    "            # Strip removes leading/trailing whitespace\n",
    "            line = line.strip()\n",
    "            # print(line)\n",
    "            if line:  # Add non-empty lines to the corpus\n",
    "                corpus.append(line)\n",
    "    return corpus\n",
    "\n",
    "# Load the corpus\n",
    "corpus = load_corpus(corpus_path)\n"
   ]
  },
  {
   "cell_type": "code",
   "execution_count": null,
   "metadata": {},
   "outputs": [
    {
     "data": {
      "text/plain": [
       "500"
      ]
     },
     "metadata": {},
     "output_type": "display_data"
    }
   ],
   "source": [
    "len(corpus)"
   ]
  },
  {
   "cell_type": "markdown",
   "metadata": {},
   "source": [
    "#### Loading Word2Vec Model and Configuration\n",
    "\n",
    "To use a previously trained Word2Vec model, we load both its configuration and state dictionary. This allows us to recreate the model with the same architecture and settings as before. The process involves:\n",
    "\n",
    "1. **Loading Configuration**: We load the model's configuration from a JSON file, which includes parameters such as vocabulary size (`voc_size`) and embedding size (`emb_size`).\n",
    "\n",
    "2. **Initializing Model**: We initialize a new Word2Vec model with the loaded configuration, creating a model that matches the original settings.\n",
    "\n",
    "3. **Loading Model State**: We load the state dictionary (learned parameters and embeddings) into the initialized model. This restores the model's weights to their trained values.\n",
    "\n",
    "4. **Setting Model to Evaluation Mode**: We set the loaded model to evaluation mode using `model.eval()`. This mode is typically used when making predictions rather than training.\n",
    "\n",
    "After loading, we confirm the successful loading of the model.\n"
   ]
  },
  {
   "cell_type": "code",
   "execution_count": 54,
   "metadata": {},
   "outputs": [
    {
     "name": "stdout",
     "output_type": "stream",
     "text": [
      "Model loaded successfully\n"
     ]
    }
   ],
   "source": [
    "model_path = './config_model_files/word2vec_model_neg_sam.pth'\n",
    "config_path = './config_model_files/word2vec_config_neg_sam.json'\n",
    "\n",
    "# Load the model's configuration from a JSON file\n",
    "with open(config_path, 'r') as config_file:\n",
    "    config = json.load(config_file)\n",
    "\n",
    "# Retrieve the configuration values\n",
    "voc_size = config['voc_size']  # Vocabulary size\n",
    "emb_size = config['emb_size']  # Embedding size\n",
    "\n",
    "# Initialize a new Word2Vec model with the loaded configuration\n",
    "loaded_model = SkipgramNeg(voc_size, emb_size)\n",
    "\n",
    "# Load the state dictionary (model parameters) into the initialized model\n",
    "loaded_model.load_state_dict(torch.load(model_path))\n",
    "\n",
    "# Set the model to evaluation mode (useful for inference)\n",
    "loaded_model.eval()\n",
    "\n",
    "# Confirm successful model loading\n",
    "print(\"Model loaded successfully\")"
   ]
  },
  {
   "cell_type": "markdown",
   "metadata": {},
   "source": [
    "##### Converts the entire text to lowercase to ensure uniformity of the proprocess we used during the training"
   ]
  },
  {
   "cell_type": "code",
   "execution_count": 55,
   "metadata": {},
   "outputs": [],
   "source": [
    "def preprocess(text):\n",
    "    # Tokenizes the text into words. \n",
    "    tokens = nltk.word_tokenize(text.lower())  \n",
    "    return tokens  # Returns the list of tokens obtained from the input text.\n"
   ]
  },
  {
   "cell_type": "markdown",
   "metadata": {},
   "source": [
    "The get_embedding function converts text into an average word embedding by:\n",
    "- Tokenizing the text and retrieving individual word embeddings from the model.\n",
    "- Averaging these embeddings to represent the entire text.\n",
    "- Returning this average embedding as a flattened 1-dimensional array, suitable for language processing tasks."
   ]
  },
  {
   "cell_type": "code",
   "execution_count": 56,
   "metadata": {},
   "outputs": [],
   "source": [
    "\n",
    "def get_embedding(text, model, word2index):\n",
    "    \"\"\"\n",
    "    Converts a text input to its corresponding average embedding.\n",
    "    \"\"\"\n",
    "    tokens = preprocess(text)  # Preprocess the text to get tokens\n",
    "    embeddings = []\n",
    "\n",
    "    # Retrieve and average the center and outside embeddings for the token\n",
    "    for token in tokens:\n",
    "        index = word2index.get(token, word2index.get('<UNK>'))\n",
    "        word_tensor = torch.LongTensor([index])\n",
    "\n",
    "        embed_center = model.embedding_center(word_tensor)\n",
    "        embed_outside = model.embedding_outside(word_tensor)\n",
    "        embed = (embed_center + embed_outside) / 2\n",
    "        embeddings.append(embed.detach().numpy())\n",
    "    \n",
    "    # Average the embeddings to get a single embedding for the entire text\n",
    "    if embeddings:\n",
    "        embeddings = np.array(embeddings)\n",
    "        text_embedding = np.mean(embeddings, axis=0)\n",
    "\n",
    "    # Make sure the embedding is a 1-D array\n",
    "    text_embedding = text_embedding.flatten()  # Flatten the array to ensure it's 1-D\n",
    "    \n",
    "    return text_embedding\n"
   ]
  },
  {
   "cell_type": "markdown",
   "metadata": {},
   "source": [
    "##### The retrieve_top_passages function is designed to find passages in a corpus that are most similar to a given query.  Here's a summary of its key operations:\n",
    "\n",
    "- Query Embedding: Converts the input query into a numerical embedding.\n",
    "\n",
    "- Similarity Computation: For each passage in the corpus, the function computes its embedding and then calculates the similarity to the query embedding. The similarity is typically measured using the dot product, representing how close or relevant a passage is to the query.\n",
    "\n",
    "- Passage Ranking: The passages are then ranked based on their similarity scores. The higher the score, the more relevant the passage is to the query.\n",
    "\n",
    "- Top Passages Retrieval: Finally, the function retrieves the top N passages with the highest similarity scores."
   ]
  },
  {
   "cell_type": "code",
   "execution_count": 57,
   "metadata": {},
   "outputs": [],
   "source": [
    "def retrieve_top_passages(query, corpus, model, word2index, top_n=10):\n",
    "    \"\"\"\n",
    "    Computes the dot product between the input query and each passage in the corpus,\n",
    "    and retrieves the top N most similar passages.\n",
    "    \"\"\"\n",
    "    # Convert the input query into its embedding\n",
    "    query_embedding = get_embedding(query, model, word2index)\n",
    "    similarities = []\n",
    "\n",
    "    # Compute similarity between the query embedding and each passage's embedding in the corpus\n",
    "\n",
    "    for passage in corpus:\n",
    "        passage_embedding = get_embedding(passage, model, word2index)\n",
    "        # Dot product as a similarity measure\n",
    "        similarity = np.dot(query_embedding, passage_embedding)\n",
    "        similarities.append(similarity)\n",
    "\n",
    "    # Sort the indices of passages based on their similarity scores\n",
    "    sorted_indices = sorted(range(len(similarities)), key=lambda i: similarities[i], reverse=True)\n",
    "    top_indices = sorted_indices[:top_n]\n",
    "\n",
    "    # Retrieve the top N passages along with their similarity scores\n",
    "    top_passages = [(corpus[idx], (similarities[idx]) * 100) for idx in top_indices]\n",
    "    \n",
    "    return top_passages"
   ]
  },
  {
   "cell_type": "code",
   "execution_count": 67,
   "metadata": {},
   "outputs": [
    {
     "name": "stdout",
     "output_type": "stream",
     "text": [
      "Search query:  taiwan had a trade trade surplus of how much billion dlrs last year\n",
      "Similar Passages from Corpus with similarity score\n",
      "1 soybean output . \t\t\t\t\t\t 9.28277000784874\n",
      "2 conrac corp said it has entered talks on its acquisition with several parties conrac corp said it has entered talks on its acquisition with several parties \t\t\t\t\t\t 8.96318033337593\n",
      "3 bowater reported a 32 . 4 mln stg profit in 1985 . \t\t\t\t\t\t 8.901199698448181\n",
      "4 he said at a meeting of ec states ' representatives here yesterday , britain undertook to communicate its own decision to its partners today . \t\t\t\t\t\t 8.376453816890717\n",
      "5 unilever aquired chesebrough for 3 . 2 billion dlrs in order to benefit from its well - known toiletry brands and food products . \t\t\t\t\t\t 8.239127695560455\n",
      "6 beef and citrus imports . \t\t\t\t\t\t 8.095347136259079\n",
      "7 the new shares will rank for dividends declared after october 31 . \t\t\t\t\t\t 7.208765298128128\n",
      "8 total membership of the exchange is now nine brokers and 44 traders . \t\t\t\t\t\t 6.802573055028915\n",
      "9 it had a 4 . 44 billion yen current profit in the first half of 1985 / 86 . \t\t\t\t\t\t 6.304363161325455\n",
      "10 the company changed its fiscal year in 1986 to a calendar year from a year ending november 30 . \t\t\t\t\t\t 6.203235685825348\n"
     ]
    }
   ],
   "source": [
    "# Example usage with the retrieve_top_passages function\n",
    "query = \"taiwan had a trade trade surplus of how much billion dlrs last year\"\n",
    "print('Search query: ', query)\n",
    "\n",
    "top_passages = retrieve_top_passages(query, corpus, loaded_model, word2index, top_n=10)\n",
    "i = 1\n",
    "\n",
    "print(\"Similar Passages from Corpus with similarity score\")\n",
    "for passage, score in top_passages:\n",
    "    print(i, passage,'\\t\\t\\t\\t\\t\\t', score)\n",
    "    i+= 1"
   ]
  },
  {
   "cell_type": "markdown",
   "metadata": {},
   "source": [
    "The search aimed to find the specific value of Taiwan's trade surplus from the last year.\n",
    "- The model provided a list of passages related to business and finance.\n",
    "- None of the top passages directly answered the query about Taiwan's trade surplus.\n",
    "- The results indicate the model's ability to retrieve financially related content.\n",
    "\n",
    "**However, pinpointing precise numerical data or directly responding to specific factual queries remains a challenge.\n",
    "This highlights the need for model improvement in terms of specificity and data extraction accuracy.**"
   ]
  }
 ],
 "metadata": {
  "kernelspec": {
   "display_name": "dsai",
   "language": "python",
   "name": "python3"
  },
  "language_info": {
   "codemirror_mode": {
    "name": "ipython",
    "version": 3
   },
   "file_extension": ".py",
   "mimetype": "text/x-python",
   "name": "python",
   "nbconvert_exporter": "python",
   "pygments_lexer": "ipython3",
   "version": "3.11.4"
  },
  "orig_nbformat": 4,
  "vscode": {
   "interpreter": {
    "hash": "0f2c79af21be9d001248940c049b6176cf8bfb45cabf7aa85848f5cea0f590f6"
   }
  }
 },
 "nbformat": 4,
 "nbformat_minor": 2
}
