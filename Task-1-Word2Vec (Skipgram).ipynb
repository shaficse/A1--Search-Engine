{
 "cells": [
  {
   "attachments": {},
   "cell_type": "markdown",
   "metadata": {},
   "source": [
    "# Word2Vec (Skipgram )"
   ]
  },
  {
   "cell_type": "markdown",
   "metadata": {},
   "source": [
    "### Library Imports\n",
    "\n",
    "This section imports all the necessary libraries required for the project. The libraries are used for various purposes such as numerical operations, deep learning model creation and optimization, data visualization, and natural language processing. Specifically:\n",
    "\n",
    "- `numpy`: Fundamental package for scientific computing with Python.\n",
    "- `torch`: A deep learning framework that provides a flexible platform for research and production.\n",
    "- `torch.nn`: A sub-library of PyTorch for building neural networks.\n",
    "- `torch.optim`: A sub-library of PyTorch for optimizing models.\n",
    "- `matplotlib`: A plotting library for creating static, interactive, and animated visualizations in Python.\n",
    "- `nltk`: A leading platform for building Python programs to work with human language data (Natural Language Processing).\n",
    "- `json`  A library for parsing and manipulating JSON data\n",
    "- `string`  A library for processing string\n",
    "\n"
   ]
  },
  {
   "cell_type": "code",
   "execution_count": 4,
   "metadata": {},
   "outputs": [],
   "source": [
    "import numpy as np\n",
    "import torch\n",
    "import torch.nn as nn\n",
    "import torch.optim as optim\n",
    "import matplotlib\n",
    "import matplotlib.pyplot as plt\n",
    "import time\n",
    "import nltk\n",
    "from nltk.corpus import reuters\n",
    "import json \n",
    "import string"
   ]
  },
  {
   "cell_type": "markdown",
   "metadata": {},
   "source": [
    "In this section, we ensure that the necessary libraries are properly installed and check their versions.\n",
    "- `matplotlib` for plotting and visualizations.\n",
    "- `numpy` (imported as `np`) for numerical operations.\n",
    "- `torch` for deep learning tasks.\n"
   ]
  },
  {
   "cell_type": "code",
   "execution_count": 5,
   "metadata": {},
   "outputs": [
    {
     "data": {
      "text/plain": [
       "('3.7.2', '1.26.0', '2.1.1')"
      ]
     },
     "execution_count": 5,
     "metadata": {},
     "output_type": "execute_result"
    }
   ],
   "source": [
    "# Check the version of matplotlib, numpy, and torch to ensure compatibility and reproducibility\n",
    "matplotlib.__version__, np.__version__, torch.__version__"
   ]
  },
  {
   "attachments": {},
   "cell_type": "markdown",
   "metadata": {},
   "source": [
    "## 1. Load data"
   ]
  },
  {
   "cell_type": "markdown",
   "metadata": {},
   "source": [
    "In this section, we download additional resources from the NLTK library. These resources are essential for natural language processing tasks involving the Reuters corpus and tokenization. Specifically:\n",
    "\n",
    "- `reuters`: A dataset of news documents. The Reuters corpus is widely used in text classification tasks.\n",
    "- `punkt`: A tokenizer model. This is used by the NLTK library to split texts into lists of sentences or lists of words.\n"
   ]
  },
  {
   "cell_type": "code",
   "execution_count": 71,
   "metadata": {},
   "outputs": [
    {
     "name": "stderr",
     "output_type": "stream",
     "text": [
      "[nltk_data] Downloading package reuters to\n",
      "[nltk_data]     /Users/shafisourov/nltk_data...\n",
      "[nltk_data]   Package reuters is already up-to-date!\n",
      "[nltk_data] Downloading package punkt to\n",
      "[nltk_data]     /Users/shafisourov/nltk_data...\n",
      "[nltk_data]   Package punkt is already up-to-date!\n"
     ]
    },
    {
     "data": {
      "text/plain": [
       "True"
      ]
     },
     "execution_count": 71,
     "metadata": {},
     "output_type": "execute_result"
    }
   ],
   "source": [
    "nltk.download('reuters')  # Download the Reuters corpus for text classification tasks\n",
    "nltk.download('punkt')  # Download the Punkt tokenizer model for sentence splitting"
   ]
  },
  {
   "cell_type": "markdown",
   "metadata": {},
   "source": [
    "\n",
    "Here we load the Reuters corpus into our workspace. The `reuters.sents()` function provided by NLTK is used to load the sentences of the Reuters corpus. \n"
   ]
  },
  {
   "cell_type": "code",
   "execution_count": 72,
   "metadata": {},
   "outputs": [],
   "source": [
    "corpus_nltk = reuters.sents()  # Load sentences from the Reuters corpus using NLTK"
   ]
  },
  {
   "cell_type": "markdown",
   "metadata": {},
   "source": [
    "### Sentence Flattening and Tokenization\n",
    "\n",
    "In this section, we perform two key preprocessing steps on the Reuters corpus:\n",
    "\n",
    "1. **Sentence Flattening**: We convert the list of sentences (where each sentence is a list of words) into a list of sentences where each sentence is a single string.\n",
    "\n",
    "2. **Tokenization**: We then tokenize each sentence. Tokenization involves splitting sentences into individual words or tokens. \n"
   ]
  },
  {
   "cell_type": "code",
   "execution_count": 8,
   "metadata": {},
   "outputs": [],
   "source": [
    "# Flatten the list of sentences and then tokenize each sentence\n",
    "corpus_nltk = [\" \".join(sent) for sent in corpus_nltk]\n",
    "corpus_nltk = [nltk.word_tokenize(sent.lower()) for sent in corpus_nltk]"
   ]
  },
  {
   "cell_type": "code",
   "execution_count": 74,
   "metadata": {},
   "outputs": [
    {
     "name": "stdout",
     "output_type": "stream",
     "text": [
      "Total Passages in the corpus 54716\n",
      "Total Tokens in the corpus 1720917\n"
     ]
    }
   ],
   "source": [
    "flatten = lambda l: [item for sublist in l for item in sublist]\n",
    "# Calculate total number of tokens in the corpus\n",
    "total_tokens = sum(len(sentence) for sentence in corpus_nltk)\n",
    "print(\"Total Passages in the corpus\",len(corpus_nltk))\n",
    "print(\"Total Tokens in the corpus\",total_tokens)"
   ]
  },
  {
   "cell_type": "markdown",
   "metadata": {},
   "source": [
    "### Creating a Subset of the Corpus\n",
    "\n",
    "For the purpose of efficiency or demonstration, we often work with a smaller subset of the entire dataset. In this section, we create a smaller corpus named `corpus` by selecting the first 500 entries from the preprocessed `corpus_nltk`.\n"
   ]
  },
  {
   "cell_type": "code",
   "execution_count": 9,
   "metadata": {},
   "outputs": [],
   "source": [
    "corpus = corpus_nltk[:500]  # Select the first 500 elements to create a smaller corpus for quick operations"
   ]
  },
  {
   "cell_type": "markdown",
   "metadata": {},
   "source": [
    "### Vocabulary Creation\n",
    "\n",
    "In this section, we prepare the vocabulary of our corpus. This involves two main steps:\n",
    "\n",
    "1. **Flattening the Corpus**: We convert our corpus from a list of sentences (where each sentence is a list of tokens) into a flat list of tokens. This is done using a lambda function for list flattening.\n",
    "\n",
    "2. **Creating Unique Vocabulary**: We then convert our flat list of tokens into a set, which automatically removes duplicates, giving us a list of unique words in our corpus. This vocabulary (`vocabs`) will be fundamental for tasks such as word embedding or encoding our textual data for machine learning models.\n",
    "\n",
    "Note: In this process, we do not include the special token `<UNK>` which is often used to represent unknown words in NLP tasks.\n"
   ]
  },
  {
   "cell_type": "code",
   "execution_count": 10,
   "metadata": {},
   "outputs": [],
   "source": [
    "#find unique words\n",
    "flatten = lambda l: [item for sublist in l for item in sublist]\n",
    "#assign unique integer\n",
    "vocabs = list(set(flatten(corpus))) #all the words we have in the system - <UNK>"
   ]
  },
  {
   "cell_type": "code",
   "execution_count": 11,
   "metadata": {},
   "outputs": [],
   "source": [
    "#append UNK\n",
    "vocabs.append('<UNK>')"
   ]
  },
  {
   "cell_type": "code",
   "execution_count": 16,
   "metadata": {},
   "outputs": [
    {
     "data": {
      "text/plain": [
       "['monier',\n",
       " 'inquiries',\n",
       " 'following',\n",
       " 'back',\n",
       " 'clarify',\n",
       " 'put',\n",
       " 'president',\n",
       " 'employment',\n",
       " 'wish',\n",
       " 'reserve']"
      ]
     },
     "execution_count": 16,
     "metadata": {},
     "output_type": "execute_result"
    }
   ],
   "source": [
    "vocabs[:10]"
   ]
  },
  {
   "cell_type": "code",
   "execution_count": null,
   "metadata": {},
   "outputs": [
    {
     "name": "stdout",
     "output_type": "stream",
     "text": [
      "Total Passages Taken for training  500\n",
      "Total Tokens Taken for training 2678\n"
     ]
    }
   ],
   "source": [
    "print(\"Total Passages Taken for training \",len(corpus))\n",
    "print(\"Total Tokens Taken for training\",len(vocabs))"
   ]
  },
  {
   "cell_type": "markdown",
   "metadata": {},
   "source": [
    "#### Creating Word to Index Mapping\n",
    "\n",
    "After creating our vocabulary, it's essential to be able to convert our textual data to numerical format, as most algorithms require numerical input. In this section, we create a mapping from words to unique integers. \n",
    "\n",
    "This mapping (`word2index`) will serve as a dictionary where each word from our vocabulary is associated with a unique\n"
   ]
  },
  {
   "cell_type": "code",
   "execution_count": 12,
   "metadata": {},
   "outputs": [],
   "source": [
    "#create handy mapping between integer and word\n",
    "word2index = {v:idx for idx, v in enumerate(vocabs)}"
   ]
  },
  {
   "cell_type": "code",
   "execution_count": 13,
   "metadata": {},
   "outputs": [],
   "source": [
    "word2index['<UNK>'] = len(vocabs)-1"
   ]
  },
  {
   "cell_type": "markdown",
   "metadata": {},
   "source": [
    "#### Creating Index to Word Mapping\n",
    "\n",
    "While the word to index mapping is crucial for encoding textual data, it's equally important to be able to decode the numerical data back to text. \n",
    "\n",
    "This reverse mapping (`index2word`) allows us to convert our numerical data back into readable text.\n"
   ]
  },
  {
   "cell_type": "code",
   "execution_count": 21,
   "metadata": {},
   "outputs": [],
   "source": [
    "index2word = {v: k for k, v in word2index.items()}  # Create a reverse mapping of integer to word"
   ]
  },
  {
   "cell_type": "code",
   "execution_count": 22,
   "metadata": {},
   "outputs": [
    {
     "data": {
      "text/plain": [
       "(2678, 2678)"
      ]
     },
     "execution_count": 22,
     "metadata": {},
     "output_type": "execute_result"
    }
   ],
   "source": [
    "len(word2index), len(index2word)"
   ]
  },
  {
   "attachments": {},
   "cell_type": "markdown",
   "metadata": {},
   "source": [
    "## 2. Prepare train data"
   ]
  },
  {
   "cell_type": "markdown",
   "metadata": {},
   "source": [
    "#### Generating Skip-gram Training Batches\n",
    "\n",
    "In this section, we define the function `random_batch` to generate training data for the Skip-gram model. The Skip-gram model tries to predict context (outside) words given a center word. The key steps in the function include:\n",
    "\n",
    "1. **Skip-gram Pair Generation**: For each word in the corpus (considering words only within a specified window size), we create pairs consisting of the center word and the outside words. \n",
    "\n",
    "2. **Handling Unknown Words**: If a word is not found in the `word2index` dictionary, it is treated as an unknown word `<UNK>`.\n",
    "\n",
    "3. **Random Sampling**: Once we have all possible pairs, we randomly sample a specified number of them to create a batch. This randomness helps in training the Skip-gram model by providing a variety of contexts.\n",
    "\n",
    "4. **Preparing Inputs and Labels**: The sampled pairs are split into inputs (center words) and labels (outside words) which are then returned.\n",
    "\n",
    "Lastly, we demonstrate the usage of this function by generating a batch of 2 samples.\n"
   ]
  },
  {
   "cell_type": "code",
   "execution_count": 23,
   "metadata": {},
   "outputs": [],
   "source": [
    "#create pairs of center word, and outside word\n",
    "\n",
    "def random_batch(batch_size, corpus, window_size=2):\n",
    "\n",
    "    skipgrams = []\n",
    "\n",
    "    #loop each corpus\n",
    "    for doc in corpus:\n",
    "        #look from the 2nd word until second last word\n",
    "        for i in range(window_size, len(doc)-window_size):\n",
    "            #center word\n",
    "            center = word2index.get(doc[i], word2index['<UNK>'])\n",
    "            #outside words = 2 words\n",
    "            outside = [word2index.get(doc[j], word2index['<UNK>']) for j in range(i - window_size, i + window_size + 1) if j != i]\n",
    "            #for each of these two outside words, we gonna append to a list\n",
    "            for each_out in outside:\n",
    "                skipgrams.append([center, each_out])\n",
    "                #center, outside1;   center, outside2\n",
    "                \n",
    "    random_index = np.random.choice(range(len(skipgrams)), batch_size, replace=False)\n",
    "    \n",
    "    inputs, labels = [], []\n",
    "    for index in random_index:\n",
    "        inputs.append([skipgrams[index][0]])\n",
    "        labels.append([skipgrams[index][1]])\n",
    "        \n",
    "    return np.array(inputs), np.array(labels)\n",
    "            \n",
    "x, y = random_batch(2, corpus)"
   ]
  },
  {
   "attachments": {},
   "cell_type": "markdown",
   "metadata": {},
   "source": [
    "## 3. Model\n",
    "\n",
    "$$J(\\theta) = -\\frac{1}{T}\\sum_{t=1}^{T}\\sum_{\\substack{-m \\leq j \\leq m \\\\ j \\neq 0}}\\log P(w_{t+j} | w_t; \\theta)$$\n",
    "\n",
    "where $P(w_{t+j} | w_t; \\theta) = $\n",
    "\n",
    "$$P(o|c)=\\frac{\\exp(\\mathbf{u_o^{\\top}v_c})}{\\sum_{w=1}^V\\exp(\\mathbf{u_w^{\\top}v_c})}$$\n",
    "\n",
    "where $o$ is the outside words and $c$ is the center word"
   ]
  },
  {
   "attachments": {},
   "cell_type": "markdown",
   "metadata": {},
   "source": [
    "$$P(o|c)=\\frac{\\exp(\\mathbf{u_o^{\\top}v_c})}{\\sum_{w=1}^V\\exp(\\mathbf{u_w^{\\top}v_c})}$$"
   ]
  },
  {
   "cell_type": "markdown",
   "metadata": {},
   "source": [
    "#### Skip-gram Model Definition\n",
    "\n",
    "In this section, we define the `Skipgram` class, which is a PyTorch model for the Skip-gram architecture. The key components and functionalities of this model include:\n",
    "\n",
    "1. **Embedding Layers**: Two embedding layers are defined, `embedding_center` for the center words and `embedding_outside` for the outside (context) words. These layers map words (integers) to their embedding vectors.\n",
    "\n",
    "2. **Forward Pass**:\n",
    "    - **Embedding Lookup**: During the forward pass, the center, outside, and all vocabulary words are passed through their respective embedding layers to obtain their embedding vectors.\n",
    "    - **Dot Product of Embeddings**: The dot product of the center and outside word embeddings is computed.\n",
    "    - **Softmax Application**: The softmax function is applied to the dot product over all vocabulary to obtain probabilities, and the negative log-likelihood of the true outside word is computed as the loss.\n",
    "\n",
    "3. **Loss Calculation**: The loss is calculated as the negative log probability of the true outside word, given the center word.\n",
    "\n"
   ]
  },
  {
   "cell_type": "code",
   "execution_count": 24,
   "metadata": {},
   "outputs": [],
   "source": [
    "class Skipgram(nn.Module):\n",
    "    \n",
    "    def __init__(self, voc_size, emb_size):\n",
    "        super(Skipgram, self).__init__()\n",
    "        self.embedding_center  = nn.Embedding(voc_size, emb_size)\n",
    "        self.embedding_outside = nn.Embedding(voc_size, emb_size)\n",
    "    \n",
    "    def forward(self, center, outside, all_vocabs):\n",
    "        center_embedding     = self.embedding_center(center)  #(batch_size, 1, emb_size)\n",
    "        outside_embedding    = self.embedding_center(outside) #(batch_size, 1, emb_size)\n",
    "        all_vocabs_embedding = self.embedding_center(all_vocabs) #(batch_size, voc_size, emb_size)\n",
    "        \n",
    "        top_term = torch.exp(outside_embedding.bmm(center_embedding.transpose(1, 2)).squeeze(2))\n",
    "        #batch_size, 1, emb_size) @ (batch_size, emb_size, 1) = (batch_size, 1, 1) = (batch_size, 1) \n",
    "\n",
    "        lower_term = all_vocabs_embedding.bmm(center_embedding.transpose(1, 2)).squeeze(2)\n",
    "        #batch_size, voc_size, emb_size) @ (batch_size, emb_size, 1) = (batch_size, voc_size, 1) = (batch_size, voc_size) \n",
    "        \n",
    "        lower_term_sum = torch.sum(torch.exp(lower_term), 1)  #(batch_size, 1)\n",
    "        \n",
    "        loss = -torch.mean(torch.log(top_term / lower_term_sum))  #scalar\n",
    "        \n",
    "        return loss\n",
    "        "
   ]
  },
  {
   "cell_type": "markdown",
   "metadata": {},
   "source": [
    "#### Preparing Sequences for Training\n",
    "Before training the Skip-gram model, we need to convert our textual data (words) into a numerical format (integers) as models work with numbers. \n",
    "\n",
    " **Sequence Preparation Function**: We define the `prepare_sequence` function, which converts a sequence of words into a sequence of corresponding integers based on the `word2index` dictionary. If a word is not found in the dictionary, it is treated as an unknown word `<UNK>`. This function is crucial for processing our textual data into a format suitable for the Skip-gram model.\n"
   ]
  },
  {
   "cell_type": "code",
   "execution_count": 25,
   "metadata": {},
   "outputs": [],
   "source": [
    "def prepare_sequence(seq, word2index):\n",
    "    # Convert a sequence of words into a sequence of corresponding indices.\n",
    "    # If a word is not found in word2index, use the index of a special <UNK> token.\n",
    "    idxs = list(map(lambda w: word2index[w] if word2index.get(w) is not None else word2index[\"<UNK>\"], seq))\n",
    "    return torch.LongTensor(idxs)  # Convert the list of indices into a PyTorch tensor of type Long.\n"
   ]
  },
  {
   "attachments": {},
   "cell_type": "markdown",
   "metadata": {},
   "source": [
    "## 4. Training"
   ]
  },
  {
   "cell_type": "markdown",
   "metadata": {},
   "source": [
    "#### Skip-gram Model Initialization\n",
    "\n",
    "In this section, we set up and initialize the Skip-gram model along with the necessary parameters and components for the training process. The key steps include:\n",
    "\n",
    "1. **Setting Batch and Embedding Sizes**: We define the size of the batches (`batch_size`) and the dimension of the word embeddings (`emb_size`). \n",
    "\n",
    "2. **Determining Vocabulary Size**: We calculate the size of our vocabulary (`voc_size`), which is essential for defining the embedding layer dimensions in our model.\n",
    "\n",
    "3. **Preparing All Vocabulary Indices**: We use the `prepare_sequence` function to convert our entire vocabulary into a sequence of indices. This sequence is expanded to match our batch size, ensuring that each training batch includes the entire vocabulary.\n",
    "\n",
    "4. **Model Initialization**: We initialize our Skip-gram model with the defined vocabulary and embedding sizes.\n",
    "\n",
    "5. **Optimizer Setup**: We set up the Adam optimizer, a popular choice for training neural networks due to its adaptive learning rate capabilities. This optimizer will update our model's parameters based on the computed gradients and the learning rate.\n"
   ]
  },
  {
   "cell_type": "code",
   "execution_count": 26,
   "metadata": {},
   "outputs": [],
   "source": [
    "batch_size = 2  # Number of samples in each batch\n",
    "emb_size = 2  # Dimension of word embedding vectors\n",
    "voc_size = len(vocabs)  # Total number of unique words in the vocabulary\n",
    "\n",
    "# Prepare a tensor with all vocabulary indices, expanded to match the batch size\n",
    "all_vocabs = prepare_sequence(list(vocabs), word2index).expand(batch_size, voc_size)\n",
    "\n",
    "model = Skipgram(voc_size, emb_size)  # Initialize the Skipgram model\n",
    "optimizer = optim.Adam(model.parameters(), lr=0.001)  # Set up the optimizer with a learning rate of 0.001\n"
   ]
  },
  {
   "cell_type": "markdown",
   "metadata": {},
   "source": [
    "#### Skip-gram Model Training\n",
    "\n",
    "We train our Skip-gram model in this section. The training process involves several key steps in each epoch:\n",
    "\n",
    "1. **Batch Preparation**: In each epoch, we prepare a batch of training data using the `random_batch` function, which generates pairs of center and outside words.\n",
    "\n",
    "2. **Loss Computation**: The model predicts the context words for the given center words, and the loss is computed. The loss indicates how well the model performs; the lower the loss, the better the model's predictions.\n",
    "\n",
    "3. **Backpropagation and Optimization**: The gradients are calculated using backpropagation, and the model's parameters are updated using the Adam optimizer.\n",
    "\n",
    "4. **Loss Tracking and Time Monitoring**: We keep track of the loss and print it at regular intervals to monitor the training progress. We also monitor the time taken for each epoch to ensure efficient training.\n",
    "\n",
    "Finally, we calculate the average loss over all epochs and print the total training time, giving us insight into the model's performance and the efficiency of the training process.\n"
   ]
  },
  {
   "cell_type": "code",
   "execution_count": 27,
   "metadata": {},
   "outputs": [
    {
     "name": "stdout",
     "output_type": "stream",
     "text": [
      "Epoch: 1000 | cost: 9.131566 | time: 0m 0s\n",
      "Epoch: 2000 | cost: 7.826011 | time: 0m 0s\n",
      "Epoch: 3000 | cost: 8.601058 | time: 0m 0s\n",
      "Epoch: 4000 | cost: 9.760706 | time: 0m 0s\n",
      "Epoch: 5000 | cost: 7.973823 | time: 0m 0s\n",
      "Epoch: 6000 | cost: 8.063474 | time: 0m 0s\n",
      "Epoch: 7000 | cost: 6.780522 | time: 0m 0s\n",
      "Epoch: 8000 | cost: 8.210116 | time: 0m 0s\n",
      "Epoch: 9000 | cost: 7.586207 | time: 0m 0s\n",
      "Epoch: 10000 | cost: 7.836135 | time: 0m 0s\n",
      "Total training time: 18m 4s\n",
      "Average training loss: 8.133966\n"
     ]
    }
   ],
   "source": [
    "num_epochs = 10000\n",
    "total_loss = 0.0  # Initialize total loss\n",
    "total_start = time.time()  # Start time for total training time\n",
    "for epoch in range(num_epochs):\n",
    "    \n",
    "    start = time.time()  # Start time for the epoch\n",
    "    #get batch\n",
    "    input_batch, label_batch = random_batch(batch_size, corpus)\n",
    "    input_tensor = torch.LongTensor(input_batch)\n",
    "    label_tensor = torch.LongTensor(label_batch)\n",
    "    \n",
    "    #predict\n",
    "    loss = model(input_tensor, label_tensor, all_vocabs)\n",
    "    \n",
    "    #backprogate\n",
    "    optimizer.zero_grad()\n",
    "    loss.backward()\n",
    "    \n",
    "    #update alpha\n",
    "    optimizer.step()\n",
    "    # Accumulate loss\n",
    "    total_loss += loss.item()\n",
    "\n",
    "    end = time.time()  # End time for the epoch\n",
    "    \n",
    "    # Calculate time taken for the epoch\n",
    "    epoch_mins, epoch_secs = divmod(end - start, 60)\n",
    "    \n",
    "    # Print the loss and time taken for the epoch\n",
    "    if (epoch + 1) % 1000 == 0:\n",
    "        print(f\"Epoch: {epoch + 1} | cost: {loss:.6f} | time: {epoch_mins:.0f}m {epoch_secs:.0f}s\")\n",
    "\n",
    "# Compute average loss\n",
    "average_loss = total_loss / num_epochs\n",
    "\n",
    "total_end = time.time()  # End time for total training time\n",
    "total_mins, total_secs = divmod(total_end - total_start, 60)\n",
    "\n",
    "# Print the total training time and average loss\n",
    "print(f\"Total training time: {total_mins:.0f}m {total_secs:.0f}s\")\n",
    "print(f\"Average training loss: {average_loss:.6f}\")"
   ]
  },
  {
   "attachments": {},
   "cell_type": "markdown",
   "metadata": {},
   "source": [
    "## 5. Plot the embeddings\n"
   ]
  },
  {
   "cell_type": "markdown",
   "metadata": {},
   "source": [
    "\n",
    "In this section, we visualize the word embeddings learned by the Skip-gram model. We plot a subset of words from our vocabulary on a 2D plane. Each point in the plot corresponds to the 2-dimensional embedding of a word, and the point is annotated with the word itself. This visualization helps in understanding the relationships and similarities between different words as captured by the model.\n",
    "\n",
    "We choose a subset of words (from index 40 to 80 in the vocabulary) for a clear and uncluttered visualization. This subset can be adjusted based on specific interests or requirements.\n"
   ]
  },
  {
   "cell_type": "code",
   "execution_count": 28,
   "metadata": {},
   "outputs": [],
   "source": [
    "def get_embed(word):\n",
    "    # Retrieve the embedding of a word from the Skipgram model\n",
    "    try:\n",
    "        # Try to find the word's index in the word2index dictionary\n",
    "        index = word2index[word]\n",
    "    except:\n",
    "        # If the word is not found, use the index of the special unknown word token <UNK>\n",
    "        index = word2index['<UNK>']\n",
    "    \n",
    "    # Convert the word index to a PyTorch tensor\n",
    "    word_tensor = torch.LongTensor([index])\n",
    "    \n",
    "    # Get the embeddings from the center and outside embedding layers\n",
    "    embed_c = model.embedding_center(word_tensor)\n",
    "    embed_o = model.embedding_outside(word_tensor)\n",
    "    \n",
    "    # Average the center and outside embeddings to get the final word embedding\n",
    "    embed = (embed_c + embed_o) / 2\n",
    "    \n",
    "    # Return the embedding values as a tuple (x, y)\n",
    "    return embed[0][0].item(), embed[0][1].item()\n"
   ]
  },
  {
   "cell_type": "code",
   "execution_count": 29,
   "metadata": {},
   "outputs": [
    {
     "data": {
      "image/png": "[encoded data removed]",
      "text/plain": [
       "<Figure size 600x300 with 1 Axes>"
      ]
     },
     "metadata": {},
     "output_type": "display_data"
    }
   ],
   "source": [
    "plt.figure(figsize=(6, 3))\n",
    "for i, word in enumerate(vocabs[40:80]):\n",
    "    x, y = get_embed(word)\n",
    "    plt.scatter(x, y)\n",
    "    plt.annotate(word, xy=(x, y), xytext=(5, 2), textcoords='offset points')\n",
    "plt.show()"
   ]
  },
  {
   "attachments": {},
   "cell_type": "markdown",
   "metadata": {},
   "source": [
    "## 6. Cosine similarity"
   ]
  },
  {
   "cell_type": "code",
   "execution_count": 30,
   "metadata": {},
   "outputs": [
    {
     "data": {
      "text/plain": [
       "(-0.9535596370697021, -0.16921091079711914)"
      ]
     },
     "execution_count": 30,
     "metadata": {},
     "output_type": "execute_result"
    }
   ],
   "source": [
    "business = get_embed('business')\n",
    "business"
   ]
  },
  {
   "cell_type": "code",
   "execution_count": 31,
   "metadata": {},
   "outputs": [
    {
     "data": {
      "text/plain": [
       "(-0.6114557385444641, -0.04080779850482941)"
      ]
     },
     "execution_count": 31,
     "metadata": {},
     "output_type": "execute_result"
    }
   ],
   "source": [
    "transactions = get_embed('transactions')\n",
    "transactions"
   ]
  },
  {
   "cell_type": "code",
   "execution_count": 32,
   "metadata": {},
   "outputs": [
    {
     "data": {
      "text/plain": [
       "(0.17630405724048615, 0.3604317903518677)"
      ]
     },
     "execution_count": 32,
     "metadata": {},
     "output_type": "execute_result"
    }
   ],
   "source": [
    "unk = get_embed('<UNK>')\n",
    "unk"
   ]
  },
  {
   "cell_type": "code",
   "execution_count": 33,
   "metadata": {},
   "outputs": [
    {
     "data": {
      "text/plain": [
       "-0.2291054243618298"
      ]
     },
     "execution_count": 33,
     "metadata": {},
     "output_type": "execute_result"
    }
   ],
   "source": [
    "np.array(business) @ np.array(unk)"
   ]
  },
  {
   "cell_type": "code",
   "execution_count": 34,
   "metadata": {},
   "outputs": [
    {
     "data": {
      "text/plain": [
       "0.5899646368832734"
      ]
     },
     "execution_count": 34,
     "metadata": {},
     "output_type": "execute_result"
    }
   ],
   "source": [
    "np.array(business) @ np.array(transactions)"
   ]
  },
  {
   "cell_type": "code",
   "execution_count": 35,
   "metadata": {},
   "outputs": [
    {
     "name": "stdout",
     "output_type": "stream",
     "text": [
      "-0.5895899460102564\n",
      "0.9940671506520095\n"
     ]
    }
   ],
   "source": [
    "def cosine_similarity(A, B):\n",
    "    # Compute the cosine similarity between vectors A and B\n",
    "    dot_product = np.dot(A, B)  # Compute the dot product of A and B\n",
    "    norm_a = np.linalg.norm(A)  # Compute the L2 norm (Euclidean norm) of vector A\n",
    "    norm_b = np.linalg.norm(B)  # Compute the L2 norm (Euclidean norm) of vector B\n",
    "    similarity = dot_product / (norm_a * norm_b)  # Compute the cosine similarity\n",
    "    return similarity  # Return the cosine similarity\n",
    "\n",
    "# Example usage of the cosine_similarity function\n",
    "print(cosine_similarity(np.array(business), np.array(unk)))  # Print the similarity between 'business' and 'unk'\n",
    "print(cosine_similarity(np.array(business), np.array(transactions)))  # Print the similarity between 'business' and 'transactions'"
   ]
  },
  {
   "cell_type": "markdown",
   "metadata": {},
   "source": [
    "The cosine similarity results indicate:\n",
    "\n",
    "- A similarity of approximately -0.5895899460102564 between business and unk suggests they are quite dissimilar or oppositely directed.\n",
    "- A similarity of nearly 1.000 between business and transactions implies a very high degree of similarity, suggesting similar meanings or contexts."
   ]
  },
  {
   "cell_type": "markdown",
   "metadata": {},
   "source": [
    "## 7. Saving Word-Index, Corpus , Embedding Model and Configureation for future-application"
   ]
  },
  {
   "cell_type": "markdown",
   "metadata": {},
   "source": [
    "#### Saving Word-Index Mappings\n",
    "\n",
    "To ensure the persistence of our word-index mappings and to facilitate their use in future sessions or applications, we save the `word2index` and `index2word` dictionaries to JSON files. "
   ]
  },
  {
   "cell_type": "code",
   "execution_count": null,
   "metadata": {},
   "outputs": [],
   "source": [
    "word2index_path = './config_model_files/word2index.json'  # Define the file path for word2index\n",
    "index2word_path = './config_model_files/index2word.json'  # Define the file path for index2word\n",
    "\n",
    "with open(word2index_path, 'w') as file:\n",
    "    json.dump(word2index, file)  # Save the word2index dictionary to a JSON file\n",
    "\n",
    "with open(index2word_path, 'w') as file:\n",
    "    json.dump(index2word, file)  # Save the index2word dictionary to a JSON file"
   ]
  },
  {
   "cell_type": "markdown",
   "metadata": {},
   "source": [
    "#### Saving the Preprocessed Corpus\n",
    "\n",
    "After preprocessing the corpus (tokenization, cleaning, etc.), it's good practice to save it for future use. \n",
    "The corpus is saved in a plain text format, making it easily accessible and readable.\n"
   ]
  },
  {
   "cell_type": "code",
   "execution_count": 37,
   "metadata": {},
   "outputs": [],
   "source": [
    "corpus_path = './config_model_files/corpus.txt'  # Define the file path for the corpus\n",
    "\n",
    "with open(corpus_path, 'w') as file:\n",
    "    for sentence in corpus:\n",
    "        file.write(' '.join(sentence) + '\\n')  # Write each sentence to the file, separated by a newline\n"
   ]
  },
  {
   "cell_type": "markdown",
   "metadata": {},
   "source": [
    "#### Saving Word2Vec Model and Configuration\n",
    "\n",
    "To ensure the preservation and reusability of our Word2Vec model, we save both its state and configuration to separate files. \n",
    "\n",
    "1. **Saving Model State**: We save the state of the Word2Vec model using `torch.save()`. This includes the learned parameters and embeddings.\n",
    "\n",
    "2. **Saving Configuration**: We save the model's configuration, such as vocabulary size (`voc_size`) and embedding size (`emb_size`), to a JSON file. \n"
   ]
  },
  {
   "cell_type": "code",
   "execution_count": 38,
   "metadata": {},
   "outputs": [
    {
     "name": "stdout",
     "output_type": "stream",
     "text": [
      "Model saved to ./config_model_files/word2vec_model.pth\n",
      "Configuration saved to ./config_model_files/word2vec_config.json\n"
     ]
    }
   ],
   "source": [
    "# Model parameters\n",
    "voc_size = len(word2index)\n",
    "emb_size = emb_size  # or whatever was our configuration\n",
    "\n",
    "# Save the model state and configuration\n",
    "model_path = './config_model_files/word2vec_model.pth'\n",
    "config_path = './config_model_files/word2vec_config.json'\n",
    "torch.save(model.state_dict(), model_path)\n",
    "\n",
    "with open(config_path, 'w') as config_file:\n",
    "    config = {'voc_size': voc_size, 'emb_size': emb_size}\n",
    "    json.dump(config, config_file)\n",
    "\n",
    "print(f\"Model saved to {model_path}\")\n",
    "print(f\"Configuration saved to {config_path}\")\n"
   ]
  },
  {
   "cell_type": "markdown",
   "metadata": {},
   "source": [
    "## 8. Inference (Loading Model with an Application of Query-Based Passage Retrieval from Trained Corpus)\n",
    "\n",
    "here's a simplified high-level overview of the process in less than five steps:\n",
    "\n",
    "- Preprocess and Embed: Convert the input query and each passage in the corpus into numerical embeddings by averaging their word embeddings.\n",
    "- Calculate Similarities: Compute the similarity between the query's embedding and each passage's embedding using the dot product.\n",
    "- Rank Passages: Rank the passages based on their similarity scores with the query.\n",
    "- Retrieve Top Passages: Select and return the top N passages that have the highest similarity scores with the query."
   ]
  },
  {
   "cell_type": "markdown",
   "metadata": {},
   "source": [
    "#### Loading Word-Index Mappings"
   ]
  },
  {
   "cell_type": "code",
   "execution_count": 44,
   "metadata": {},
   "outputs": [],
   "source": [
    "word2index_path = './config_model_files/word2index.json'  \n",
    "index2word_path = './config_model_files/index2word.json' \n",
    "\n",
    "with open(word2index_path, 'r') as file:\n",
    "    word2index = json.load(file)  # Load the word2index dictionary from the JSON file\n",
    "\n",
    "with open(index2word_path, 'r') as file:\n",
    "    index2word = json.load(file)  # Load the index2word dictionary from the JSON file\n"
   ]
  },
  {
   "cell_type": "markdown",
   "metadata": {},
   "source": [
    "#### Loading the Preprocessed Corpus"
   ]
  },
  {
   "cell_type": "code",
   "execution_count": 48,
   "metadata": {},
   "outputs": [],
   "source": [
    "corpus_path = './config_model_files/corpus.txt' \n",
    "def load_corpus(file_path):\n",
    "    corpus = []\n",
    "    with open(file_path, 'r', encoding='utf-8') as file:\n",
    "        for line in file:\n",
    "            # Strip removes leading/trailing whitespace\n",
    "            line = line.strip()\n",
    "            # print(line)\n",
    "            if line:  # Add non-empty lines to the corpus\n",
    "                corpus.append(line)\n",
    "    return corpus\n",
    "\n",
    "# Load the corpus\n",
    "corpus = load_corpus(corpus_path)\n"
   ]
  },
  {
   "cell_type": "code",
   "execution_count": 50,
   "metadata": {},
   "outputs": [
    {
     "data": {
      "text/plain": [
       "500"
      ]
     },
     "execution_count": 50,
     "metadata": {},
     "output_type": "execute_result"
    }
   ],
   "source": [
    "len(corpus)"
   ]
  },
  {
   "cell_type": "markdown",
   "metadata": {},
   "source": [
    "#### Loading Word2Vec Model and Configuration\n",
    "\n",
    "To use a previously trained Word2Vec model, we load both its configuration and state dictionary. This allows us to recreate the model with the same architecture and settings as before. The process involves:\n",
    "\n",
    "1. **Loading Configuration**: We load the model's configuration from a JSON file, which includes parameters such as vocabulary size (`voc_size`) and embedding size (`emb_size`).\n",
    "\n",
    "2. **Initializing Model**: We initialize a new Word2Vec model with the loaded configuration, creating a model that matches the original settings.\n",
    "\n",
    "3. **Loading Model State**: We load the state dictionary (learned parameters and embeddings) into the initialized model. This restores the model's weights to their trained values.\n",
    "\n",
    "4. **Setting Model to Evaluation Mode**: We set the loaded model to evaluation mode using `model.eval()`. This mode is typically used when making predictions rather than training.\n"
   ]
  },
  {
   "cell_type": "code",
   "execution_count": 47,
   "metadata": {},
   "outputs": [
    {
     "name": "stdout",
     "output_type": "stream",
     "text": [
      "Model loaded successfully\n"
     ]
    }
   ],
   "source": [
    "model_path = './config_model_files/word2vec_model.pth'\n",
    "config_path = './config_model_files/word2vec_config.json'\n",
    "\n",
    "# Load the model's configuration from a JSON file\n",
    "with open(config_path, 'r') as config_file:\n",
    "    config = json.load(config_file)\n",
    "\n",
    "# Retrieve the configuration values\n",
    "voc_size = config['voc_size']  # Vocabulary size\n",
    "emb_size = config['emb_size']  # Embedding size\n",
    "\n",
    "# Initialize a new Word2Vec model with the loaded configuration\n",
    "loaded_model = Skipgram(voc_size, emb_size)\n",
    "\n",
    "# Load the state dictionary (model parameters) into the initialized model\n",
    "loaded_model.load_state_dict(torch.load(model_path))\n",
    "\n",
    "# Set the model to evaluation mode (useful for inference)\n",
    "loaded_model.eval()\n",
    "\n",
    "# Confirm successful model loading\n",
    "print(\"Model loaded successfully\")"
   ]
  },
  {
   "cell_type": "markdown",
   "metadata": {},
   "source": [
    " Converts the entire text to lowercase to ensure uniformity of the proprocess we used during the training"
   ]
  },
  {
   "cell_type": "code",
   "execution_count": 54,
   "metadata": {},
   "outputs": [],
   "source": [
    "def preprocess(text):\n",
    "    # Tokenizes the text into words. \n",
    "    tokens = nltk.word_tokenize(text.lower())  \n",
    "    return tokens  # Returns the list of tokens obtained from the input text.\n"
   ]
  },
  {
   "cell_type": "markdown",
   "metadata": {},
   "source": [
    "The get_embedding function converts text into an average word embedding by:\n",
    "- Tokenizing the text and retrieving individual word embeddings from the model.\n",
    "- Averaging these embeddings to represent the entire text.\n",
    "- Returning this average embedding as a flattened 1-dimensional array, suitable for language processing tasks."
   ]
  },
  {
   "cell_type": "code",
   "execution_count": 60,
   "metadata": {},
   "outputs": [],
   "source": [
    "\n",
    "def get_embedding(text, model, word2index):\n",
    "    \"\"\"\n",
    "    Converts a text input to its corresponding average embedding.\n",
    "    \"\"\"\n",
    "    tokens = preprocess(text)  # Preprocess the text to get tokens\n",
    "    embeddings = []\n",
    "\n",
    "    # Retrieve and average the center and outside embeddings for the token\n",
    "    for token in tokens:\n",
    "        index = word2index.get(token, word2index.get('<UNK>'))\n",
    "        word_tensor = torch.LongTensor([index])\n",
    "\n",
    "        embed_center = model.embedding_center(word_tensor)\n",
    "        embed_outside = model.embedding_outside(word_tensor)\n",
    "        embed = (embed_center + embed_outside) / 2\n",
    "        embeddings.append(embed.detach().numpy())\n",
    "    \n",
    "    # Average the embeddings to get a single embedding for the entire text\n",
    "    if embeddings:\n",
    "        embeddings = np.array(embeddings)\n",
    "        text_embedding = np.mean(embeddings, axis=0)\n",
    "\n",
    "    # Make sure the embedding is a 1-D array\n",
    "    text_embedding = text_embedding.flatten()  # Flatten the array to ensure it's 1-D\n",
    "    \n",
    "    return text_embedding"
   ]
  },
  {
   "cell_type": "markdown",
   "metadata": {},
   "source": [
    "##### The retrieve_top_passages function is designed to find passages in a corpus that are most similar to a given query.  \n",
    "\n",
    "- Query Embedding: Converts the input query into a numerical embedding.\n",
    "\n",
    "- Similarity Computation: For each passage in the corpus, the function computes its embedding and then calculates the similarity to the query embedding. The similarity is typically measured using the dot product, representing how close or relevant a passage is to the query.\n",
    "\n",
    "- Passage Ranking: The passages are then ranked based on their similarity scores. The higher the score, the more relevant the passage is to the query.\n",
    "\n",
    "- Top Passages Retrieval: Finally, the function retrieves the top N passages with the highest similarity scores."
   ]
  },
  {
   "cell_type": "code",
   "execution_count": 61,
   "metadata": {},
   "outputs": [],
   "source": [
    "def retrieve_top_passages(query, corpus, model, word2index, top_n=10):\n",
    "    \"\"\"\n",
    "    Computes the dot product between the input query and each passage in the corpus,\n",
    "    and retrieves the top N most similar passages.\n",
    "    \"\"\"\n",
    "    # Convert the input query into its embedding\n",
    "    query_embedding = get_embedding(query, model, word2index)\n",
    "    similarities = []\n",
    "\n",
    "    # Compute similarity between the query embedding and each passage's embedding in the corpus\n",
    "\n",
    "    for passage in corpus:\n",
    "        passage_embedding = get_embedding(passage, model, word2index)\n",
    "        # Dot product as a similarity measure\n",
    "        similarity = np.dot(query_embedding, passage_embedding)\n",
    "        similarities.append(similarity)\n",
    "\n",
    "    # Sort the indices of passages based on their similarity scores\n",
    "    sorted_indices = sorted(range(len(similarities)), key=lambda i: similarities[i], reverse=True)\n",
    "    top_indices = sorted_indices[:top_n]\n",
    "\n",
    "    # Retrieve the top N passages along with their similarity scores\n",
    "    top_passages = [(corpus[idx], (similarities[idx]) * 100) for idx in top_indices]\n",
    "    \n",
    "    return top_passages"
   ]
  },
  {
   "cell_type": "code",
   "execution_count": 78,
   "metadata": {},
   "outputs": [
    {
     "name": "stdout",
     "output_type": "stream",
     "text": [
      "Search query:  taiwan had a trade surplus of how much billion dlrs last year\n",
      "Similar Passages from Corpus with similarity score\n",
      "1 it gave no further details . \t\t\t\t\t\t 25.80093741416931\n",
      "2 it gave no further details . \t\t\t\t\t\t 25.80093741416931\n",
      "3 it named no sources . \t\t\t\t\t\t 20.963293313980103\n",
      "4 much of the debt has been watered down but big sums are still owed by individuals and companies . \t\t\t\t\t\t 20.767182111740112\n",
      "5 taiwan had a trade trade surplus of 15 . 6 billion dlrs last year , 95 pct of it with the u . s . \t\t\t\t\t\t 18.00025850534439\n",
      "6 the paper gave no further details . \t\t\t\t\t\t 17.217066884040833\n",
      "7 u . s . officials said this week ' s talks are unlikely to delay imposition of tariffs . \t\t\t\t\t\t 17.129403352737427\n",
      "8 `` we are aware of the seriousness of the u . s . \t\t\t\t\t\t 16.932138800621033\n",
      "9 bell previously held 10 pct of standard . \t\t\t\t\t\t 16.890713572502136\n",
      "10 atlas said the two sides were also discussing equity infusion into atlas and the creation of a development fund for further exploration and development of the company ' s gold properties in the central province of masbate . \t\t\t\t\t\t 16.689100861549377\n"
     ]
    }
   ],
   "source": [
    "# Example usage with the retrieve_top_passages function\n",
    "query = \"taiwan had a trade surplus of how much billion dlrs last year\"\n",
    "print('Search query: ', query)\n",
    "top_passages = retrieve_top_passages(query, corpus, loaded_model, word2index, top_n=10)\n",
    "i = 1\n",
    "print(\"Similar Passages from Corpus with similarity score\")\n",
    "for passage, score in top_passages:\n",
    "    print(i, passage,'\\t\\t\\t\\t\\t\\t', score)\n",
    "    i+= 1"
   ]
  },
  {
   "cell_type": "markdown",
   "metadata": {},
   "source": [
    "##### The search query aimed to find information about Taiwan's trade surplus. The system retrieved various passages, with the 5th one accurately providing the desired information: Taiwan had a trade surplus of 15.6 billion dollars last year. \n",
    "\n",
    "**The presence of other less relevant passages in the top results highlights the need for improved precision in the model's information retrieval capabilities.**"
   ]
  }
 ],
 "metadata": {
  "kernelspec": {
   "display_name": "dsai",
   "language": "python",
   "name": "python3"
  },
  "language_info": {
   "codemirror_mode": {
    "name": "ipython",
    "version": 3
   },
   "file_extension": ".py",
   "mimetype": "text/x-python",
   "name": "python",
   "nbconvert_exporter": "python",
   "pygments_lexer": "ipython3",
   "version": "3.11.4"
  },
  "orig_nbformat": 4,
  "vscode": {
   "interpreter": {
    "hash": "0f2c79af21be9d001248940c049b6176cf8bfb45cabf7aa85848f5cea0f590f6"
   }
  }
 },
 "nbformat": 4,
 "nbformat_minor": 2
}
