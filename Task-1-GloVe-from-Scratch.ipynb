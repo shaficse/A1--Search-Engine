{
 "cells": [
  {
   "attachments": {},
   "cell_type": "markdown",
   "metadata": {},
   "source": [
    "# Glove from Scratch"
   ]
  },
  {
   "cell_type": "markdown",
   "metadata": {},
   "source": [
    "### Library Imports\n",
    "\n",
    "This section imports all the necessary libraries required for the project. The libraries are used for various purposes such as numerical operations, deep learning model creation and optimization, data visualization, and natural language processing. Specifically:\n",
    "\n",
    "- `numpy`: Fundamental package for scientific computing with Python.\n",
    "- `torch`: A deep learning framework that provides a flexible platform for research and production.\n",
    "- `torch.nn`: A sub-library of PyTorch for building neural networks.\n",
    "- `torch.optim`: A sub-library of PyTorch for optimizing models.\n",
    "- `matplotlib`: A plotting library for creating static, interactive, and animated visualizations in Python.\n",
    "- `nltk`: A leading platform for building Python programs to work with human language data (Natural Language Processing).\n",
    "- `json`  A library for parsing and manipulating JSON data\n",
    "- `string`  A library for processing string\n",
    "\n"
   ]
  },
  {
   "cell_type": "code",
   "execution_count": 64,
   "metadata": {},
   "outputs": [],
   "source": [
    "import numpy as np\n",
    "import torch\n",
    "import torch.nn as nn\n",
    "import torch.optim as optim\n",
    "import matplotlib\n",
    "import matplotlib.pyplot as plt\n",
    "import time\n",
    "import nltk\n",
    "from nltk.corpus import reuters\n",
    "import json \n",
    "import string"
   ]
  },
  {
   "cell_type": "markdown",
   "metadata": {},
   "source": [
    "In this section, we ensure that the necessary libraries are properly installed and check their versions. This is a crucial step to maintain reproducibility and debug any version-related issues. We are checking versions for the following libraries:\n",
    "- `matplotlib` for plotting and visualizations.\n",
    "- `numpy` (imported as `np`) for numerical operations.\n",
    "- `torch` for deep learning tasks.\n"
   ]
  },
  {
   "cell_type": "code",
   "execution_count": 65,
   "metadata": {},
   "outputs": [
    {
     "data": {
      "text/plain": [
       "('3.7.2', '1.26.0', '2.1.1')"
      ]
     },
     "execution_count": 65,
     "metadata": {},
     "output_type": "execute_result"
    }
   ],
   "source": [
    "# Check the version of matplotlib, numpy, and torch to ensure compatibility and reproducibility\n",
    "matplotlib.__version__, np.__version__, torch.__version__"
   ]
  },
  {
   "cell_type": "markdown",
   "metadata": {},
   "source": [
    "In this section, we download additional resources from the NLTK library. These resources are essential for natural language processing tasks involving the Reuters corpus and tokenization. Specifically:\n",
    "\n",
    "- `reuters`: A dataset of news documents. The Reuters corpus is widely used in text classification tasks.\n",
    "- `punkt`: A tokenizer model. This is used by the NLTK library to split texts into lists of sentences or lists of words.\n"
   ]
  },
  {
   "cell_type": "code",
   "execution_count": 66,
   "metadata": {},
   "outputs": [
    {
     "name": "stderr",
     "output_type": "stream",
     "text": [
      "[nltk_data] Downloading package reuters to\n",
      "[nltk_data]     /Users/shafisourov/nltk_data...\n",
      "[nltk_data]   Package reuters is already up-to-date!\n",
      "[nltk_data] Downloading package punkt to\n",
      "[nltk_data]     /Users/shafisourov/nltk_data...\n",
      "[nltk_data]   Package punkt is already up-to-date!\n"
     ]
    },
    {
     "data": {
      "text/plain": [
       "True"
      ]
     },
     "execution_count": 66,
     "metadata": {},
     "output_type": "execute_result"
    }
   ],
   "source": [
    "nltk.download('reuters')  # Download the Reuters corpus for text classification tasks\n",
    "nltk.download('punkt')  # Download the Punkt tokenizer model for sentence splitting"
   ]
  },
  {
   "attachments": {},
   "cell_type": "markdown",
   "metadata": {},
   "source": [
    "## 1. Load data"
   ]
  },
  {
   "cell_type": "markdown",
   "metadata": {},
   "source": [
    "\n",
    "Here we load the Reuters corpus into our workspace. The `reuters.sents()` function provided by NLTK is used to load the sentences of the Reuters corpus. This corpus will be used for various natural language processing tasks, such as text classification, sentence structure analysis, etc. The corpus is structured as a list of sentences, and each sentence is a list of words.\n"
   ]
  },
  {
   "cell_type": "code",
   "execution_count": 67,
   "metadata": {},
   "outputs": [],
   "source": [
    "corpus_nltk = reuters.sents()  # Load sentences from the Reuters corpus using NLTK"
   ]
  },
  {
   "cell_type": "markdown",
   "metadata": {},
   "source": [
    "### Sentence Flattening and Tokenization\n",
    "\n",
    "In this section, we perform two key preprocessing steps on the Reuters corpus:\n",
    "\n",
    "1. **Sentence Flattening**: We convert the list of sentences (where each sentence is a list of words) into a list of sentences where each sentence is a single string. This makes it suitable for further processing such as tokenization.\n",
    "\n",
    "2. **Tokenization**: We then tokenize each sentence. Tokenization involves splitting sentences into individual words or tokens. This is a crucial step in natural language processing as it prepares the text data for techniques like word embedding or bag-of-words. We also convert all the text to lowercase to maintain consistency and reduce the complexity of the dataset.\n"
   ]
  },
  {
   "cell_type": "code",
   "execution_count": 68,
   "metadata": {},
   "outputs": [],
   "source": [
    "# Flatten the list of sentences and then tokenize each sentence\n",
    "corpus_nltk = [\" \".join(sent) for sent in corpus_nltk]\n",
    "corpus_nltk = [nltk.word_tokenize(sent.lower()) for sent in corpus_nltk]"
   ]
  },
  {
   "cell_type": "code",
   "execution_count": 170,
   "metadata": {},
   "outputs": [
    {
     "name": "stdout",
     "output_type": "stream",
     "text": [
      "Total Passages in the corpus 54716\n",
      "Total Tokens in the corpus 30996\n"
     ]
    }
   ],
   "source": [
    "flatten = lambda l: [item for sublist in l for item in sublist]\n",
    "#total passages , total words in the corpus\n",
    "\n",
    "print(\"Total Passages in the corpus\",len(corpus_nltk))\n",
    "print(\"Total Tokens in the corpus\",len(list(set(flatten(corpus_nltk)))))"
   ]
  },
  {
   "cell_type": "markdown",
   "metadata": {},
   "source": [
    "### Creating a Subset of the Corpus\n",
    "\n",
    "For the purpose of efficiency or demonstration, we often work with a smaller subset of the entire dataset. In this section, we create a smaller corpus named `corpus` by selecting the first 500 entries from the preprocessed `corpus_nltk`. This subset will be used for subsequent operations, reducing the computational load and allowing for quicker iterations during the development and testing phases.\n"
   ]
  },
  {
   "cell_type": "code",
   "execution_count": 70,
   "metadata": {},
   "outputs": [],
   "source": [
    "corpus = corpus_nltk[:500]  # Select the first 500 elements to create a smaller corpus for quick operations"
   ]
  },
  {
   "cell_type": "markdown",
   "metadata": {},
   "source": [
    "### Vocabulary Creation\n",
    "\n",
    "In this section, we prepare the vocabulary of our corpus. This involves two main steps:\n",
    "\n",
    "1. **Flattening the Corpus**: We convert our corpus from a list of sentences (where each sentence is a list of tokens) into a flat list of tokens. This is done using a lambda function for list flattening.\n",
    "\n",
    "2. **Creating Unique Vocabulary**: We then convert our flat list of tokens into a set, which automatically removes duplicates, giving us a list of unique words in our corpus. This vocabulary (`vocabs`) will be fundamental for tasks such as word embedding or encoding our textual data for machine learning models.\n",
    "\n",
    "Note: In this process, we do not include the special token `<UNK>` which is often used to represent unknown words in NLP tasks.\n"
   ]
  },
  {
   "cell_type": "code",
   "execution_count": 71,
   "metadata": {},
   "outputs": [],
   "source": [
    "#find unique words\n",
    "flatten = lambda l: [item for sublist in l for item in sublist]\n",
    "#assign unique integer\n",
    "vocabs = list(set(flatten(corpus))) #all the words we have in the system - <UNK>"
   ]
  },
  {
   "cell_type": "code",
   "execution_count": 72,
   "metadata": {},
   "outputs": [],
   "source": [
    "#append UNK\n",
    "vocabs.append('<UNK>')"
   ]
  },
  {
   "cell_type": "code",
   "execution_count": 73,
   "metadata": {},
   "outputs": [
    {
     "data": {
      "text/plain": [
       "2678"
      ]
     },
     "execution_count": 73,
     "metadata": {},
     "output_type": "execute_result"
    }
   ],
   "source": [
    "len(vocabs)"
   ]
  },
  {
   "cell_type": "code",
   "execution_count": 173,
   "metadata": {},
   "outputs": [
    {
     "name": "stdout",
     "output_type": "stream",
     "text": [
      "Total Passages Taken for training  500\n",
      "Total Tokens Taken for training 2678\n"
     ]
    }
   ],
   "source": [
    "print(\"Total Passages Taken for training \",len(corpus))\n",
    "print(\"Total Tokens Taken for training\",len(vocabs))"
   ]
  },
  {
   "cell_type": "markdown",
   "metadata": {},
   "source": [
    "#### Creating Word to Index Mapping\n",
    "\n",
    "After creating our vocabulary, it's essential to be able to convert our textual data to numerical format, as most algorithms require numerical input. In this section, we create a mapping from words to unique integers. \n",
    "\n",
    "This mapping (`word2index`) will serve as a dictionary where each word from our vocabulary is associated with a unique\n"
   ]
  },
  {
   "cell_type": "code",
   "execution_count": 74,
   "metadata": {},
   "outputs": [],
   "source": [
    "#create handy mapping between integer and word\n",
    "word2index = {v:idx for idx, v in enumerate(vocabs)}"
   ]
  },
  {
   "cell_type": "code",
   "execution_count": 75,
   "metadata": {},
   "outputs": [],
   "source": [
    "word2index['<UNK>'] = len(vocabs)-1"
   ]
  },
  {
   "cell_type": "markdown",
   "metadata": {},
   "source": [
    "#### Creating Index to Word Mapping\n",
    "\n",
    "While the word to index mapping is crucial for encoding textual data, it's equally important to be able to decode the numerical data back to text. In this section, we create a reverse mapping from indices to words.\n",
    "\n",
    "This reverse mapping (`index2word`) allows us to convert our numerical data back into readable text, which is especially useful during the testing phase or when we want to interpret the output of our model. The dictionary is created by reversing the `word2index` mapping.\n",
    "\n",
    "Finally, we demonstrate how to use this mapping by retrieving the word associated with the index 0.\n"
   ]
  },
  {
   "cell_type": "code",
   "execution_count": 76,
   "metadata": {},
   "outputs": [],
   "source": [
    "index2word = {v: k for k, v in word2index.items()}  # Create a reverse mapping of integer to word"
   ]
  },
  {
   "cell_type": "markdown",
   "metadata": {},
   "source": [
    "## 2. Build Co-occurence Matrix X"
   ]
  },
  {
   "cell_type": "markdown",
   "metadata": {},
   "source": [
    "Here, we need to count the co-occurence of two words given some window size.  We gonna use window size of 1."
   ]
  },
  {
   "cell_type": "markdown",
   "metadata": {},
   "source": [
    "In this section, we generate skip-grams from the given corpus. Skip-grams are pairs of words that capture the context of words within a document. For each word in a document, we consider its immediate neighbors as its context. We construct pairs (center, outside) where 'center' is the current word, and 'outside' consists of its immediate neighbors. These pairs are then collected into a list of skip-grams. This approach is useful in various NLP tasks to understand and preserve the local context of words.\n"
   ]
  },
  {
   "cell_type": "code",
   "execution_count": 77,
   "metadata": {},
   "outputs": [],
   "source": [
    "from collections import Counter\n",
    "\n",
    "# Flattening the corpus into a 1D list of elements\n",
    "# Assuming 'flatten' is a function that properly flattens the corpus\n",
    "X_i = Counter(flatten(corpus))"
   ]
  },
  {
   "cell_type": "code",
   "execution_count": 78,
   "metadata": {},
   "outputs": [],
   "source": [
    "# Initialize an empty list to store the skip-grams\n",
    "skip_grams = []\n",
    "\n",
    "# Iterate over each document in the corpus\n",
    "for doc in corpus:\n",
    "    # Iterate over each word in the document, except the first and last words\n",
    "    for i in range(1, len(doc)-1):\n",
    "        center = doc[i]  # Current word as the center word\n",
    "        outside = [doc[i-1], doc[i+1]]  # Words immediately before and after the center word\n",
    "        \n",
    "        # Create skip-grams and add them to the list\n",
    "        # Each skip-gram is a pair (center word, outside word)\n",
    "        for each_out in outside:\n",
    "            skip_grams.append((center, each_out))"
   ]
  },
  {
   "cell_type": "code",
   "execution_count": 79,
   "metadata": {},
   "outputs": [],
   "source": [
    "X_ik_skipgrams = Counter(skip_grams)"
   ]
  },
  {
   "cell_type": "markdown",
   "metadata": {},
   "source": [
    "GloVe includes a weighting function to scale down too frequent words.\n",
    "\n",
    "![Glove Weighting Function](screenshots/glove_weighting_func.png)\n"
   ]
  },
  {
   "cell_type": "markdown",
   "metadata": {},
   "source": [
    "#### Weighting Function for Word Co-occurrences\n",
    "\n",
    "This section defines the `weighting` function, which computes a weighted value for a pair of words based on their co-occurrence frequency. The function aims to scale the co-occurrence frequency by a factor that diminishes as the frequency increases, up to a certain threshold (`x_max`). The scaling factor is controlled by the parameter `alpha`. If the co-occurrence frequency is not available, Laplace smoothing is applied by setting the frequency to 1. This function is useful in word embedding methods where the relationship between words is captured by their co-occurrence patterns within a certain context.\n"
   ]
  },
  {
   "cell_type": "code",
   "execution_count": 80,
   "metadata": {},
   "outputs": [],
   "source": [
    "def weighting(w_i, w_j, X_ik):\n",
    "    # Check whether the co-occurrences between w_i and w_j are available in X_ik\n",
    "    try:\n",
    "        x_ij = X_ik[(w_i, w_j)]\n",
    "    # If not exist, apply Laplace smoothing by setting co-occurrence to 1\n",
    "    except:\n",
    "        x_ij = 1\n",
    "    \n",
    "    # Set the maximum co-occurrence value for scaling\n",
    "    x_max = 100\n",
    "    # Set the scaling exponent\n",
    "    alpha = 0.75\n",
    "    \n",
    "    # If co-occurrence does not exceed x_max, scale it by (x_ij / x_max)^alpha\n",
    "    if x_ij < x_max:\n",
    "        result = (x_ij / x_max) ** alpha\n",
    "    # Otherwise, if co-occurrence is greater than or equal to x_max, set the result to 1\n",
    "    else:\n",
    "        result = 1\n",
    "    \n",
    "    # Return the weighted result\n",
    "    return result\n"
   ]
  },
  {
   "cell_type": "markdown",
   "metadata": {},
   "source": [
    "#### Co-occurrence and Weight Calculation\n",
    "\n",
    "In this section, we calculate the co-occurrence of each possible pair of words (bigrams) from the vocabulary and then apply the previously defined `weighting` function to compute a weight for each bigram. The co-occurrences are stored in `X_ik`, which keeps track of the co-occurrence count for each word pair. The `weighting_dic` dictionary is used to store the weights of these co-occurrences. The weights are intended to reflect the strength and significance of the co-occurrence, adjusted by the `weighting` function to account for the frequency and provide stability in the values.\n"
   ]
  },
  {
   "cell_type": "code",
   "execution_count": 81,
   "metadata": {},
   "outputs": [],
   "source": [
    "from itertools import combinations_with_replacement\n",
    "\n",
    "X_ik = {} #keeping the co-occurences\n",
    "weighting_dic = {} #already scale the co-occurences using the weighting function\n",
    "\n",
    "for bigram in combinations_with_replacement(vocabs, 2):\n",
    "    if X_ik_skipgrams.get(bigram):  #if the pair exists in our corpus\n",
    "        co = X_ik_skipgrams[bigram]\n",
    "        X_ik[bigram] = co + 1 #for stability\n",
    "        X_ik[(bigram[1], bigram[0])] = co + 1 #basically apple, banana = banana, apple\n",
    "    else:\n",
    "        pass\n",
    "    \n",
    "    weighting_dic[bigram] = weighting(bigram[0], bigram[1], X_ik)\n",
    "    weighting_dic[(bigram[1], bigram[0])] = weighting(bigram[1], bigram[0], X_ik)"
   ]
  },
  {
   "attachments": {},
   "cell_type": "markdown",
   "metadata": {},
   "source": [
    "## 3. Prepare train data"
   ]
  },
  {
   "cell_type": "markdown",
   "metadata": {},
   "source": [
    "#### Batch Preparation for Model Training\n",
    "\n",
    "This function, `random_batch`, is designed to prepare batches of data for training a word embedding model. It randomly selects skip-grams and gathers the necessary components for the batch: inputs (center words), labels (context words), co-occurrence counts, and weighting values. The co-occurrence counts are log-transformed for numerical stability and scaling purposes. The weighting values are retrieved from a pre-computed dictionary, reflecting the significance of each word pair's co-occurrence. This function is crucial for stochastic training approaches where batches of data are used to update the model's parameters iteratively.\n"
   ]
  },
  {
   "cell_type": "code",
   "execution_count": 82,
   "metadata": {},
   "outputs": [],
   "source": [
    "import math\n",
    "\n",
    "def random_batch(batch_size, word_sequence, skip_grams, X_ik, weighting_dic):\n",
    "    # Initialize lists to hold batch data\n",
    "    random_inputs, random_labels, random_coocs, random_weightings = [], [], [], []\n",
    "    \n",
    "    # Convert skip-grams to their corresponding indices\n",
    "    skip_grams_id = [(word2index[skip_gram[0]], word2index[skip_gram[1]]) for skip_gram in skip_grams]\n",
    "    \n",
    "    # Randomly choose indices based on the batch size\n",
    "    random_index = np.random.choice(range(len(skip_grams_id)), batch_size, replace=False)\n",
    "    \n",
    "    # For each randomly chosen index, gather the batch data\n",
    "    for index in random_index:\n",
    "        # Append the center word index\n",
    "        random_inputs.append([skip_grams_id[index][0]])\n",
    "        # Append the context word index\n",
    "        random_labels.append([skip_grams_id[index][1]])\n",
    "        \n",
    "        # Append the log of co-occurrence count (with Laplace smoothing)\n",
    "        pair = skip_grams[index]  # Get the original word pair\n",
    "        cooc = X_ik.get(pair, 1)  # Get co-occurrence count, default to 1 if not found\n",
    "        random_coocs.append([math.log(cooc)])\n",
    "        \n",
    "        # Append the weighting for the word pair\n",
    "        weighting = weighting_dic[pair]\n",
    "        random_weightings.append([weighting])\n",
    "        \n",
    "    # Return the batch data as numpy arrays\n",
    "    return np.array(random_inputs), np.array(random_labels), np.array(random_coocs), np.array(random_weightings)\n"
   ]
  },
  {
   "cell_type": "markdown",
   "metadata": {},
   "source": [
    "#### Testing the method"
   ]
  },
  {
   "cell_type": "code",
   "execution_count": 83,
   "metadata": {},
   "outputs": [],
   "source": [
    "batch_size = 2\n",
    "x, y, cooc, weighting = random_batch(batch_size, corpus, skip_grams, X_ik, weighting_dic)"
   ]
  },
  {
   "cell_type": "code",
   "execution_count": 84,
   "metadata": {},
   "outputs": [
    {
     "data": {
      "text/plain": [
       "array([[ 185],\n",
       "       [1704]])"
      ]
     },
     "execution_count": 84,
     "metadata": {},
     "output_type": "execute_result"
    }
   ],
   "source": [
    "x"
   ]
  },
  {
   "cell_type": "code",
   "execution_count": 85,
   "metadata": {},
   "outputs": [
    {
     "data": {
      "text/plain": [
       "array([[1429],\n",
       "       [1551]])"
      ]
     },
     "execution_count": 85,
     "metadata": {},
     "output_type": "execute_result"
    }
   ],
   "source": [
    "y"
   ]
  },
  {
   "cell_type": "code",
   "execution_count": 86,
   "metadata": {},
   "outputs": [
    {
     "data": {
      "text/plain": [
       "array([[0.69314718],\n",
       "       [1.79175947]])"
      ]
     },
     "execution_count": 86,
     "metadata": {},
     "output_type": "execute_result"
    }
   ],
   "source": [
    "cooc"
   ]
  },
  {
   "cell_type": "code",
   "execution_count": 87,
   "metadata": {},
   "outputs": [
    {
     "data": {
      "text/plain": [
       "array([[0.05318296],\n",
       "       [0.12123093]])"
      ]
     },
     "execution_count": 87,
     "metadata": {},
     "output_type": "execute_result"
    }
   ],
   "source": [
    "weighting"
   ]
  },
  {
   "cell_type": "markdown",
   "metadata": {},
   "source": [
    "## 4. Model & Training\n",
    "\n",
    "![alternative text](screenshots/glove.png)\n"
   ]
  },
  {
   "cell_type": "markdown",
   "metadata": {},
   "source": [
    "#### GloVe Model for Word Embeddings\n",
    "\n",
    "This class, `Glove`, implements the GloVe model for generating word embeddings. The GloVe model captures global statistics of word co-occurrences in a corpus and uses them to form vector representations of words. This implementation includes embedding layers for the center and outside words, as well as bias terms for each. The `forward` method computes the GloVe loss function, which is designed to encourage the dot product of the embeddings of words that co-occur frequently to be close to the logarithm of their co-occurrence probability, adjusted by the respective bias terms and a weighting factor for each word pair.\n"
   ]
  },
  {
   "cell_type": "code",
   "execution_count": 88,
   "metadata": {},
   "outputs": [],
   "source": [
    "class Glove(nn.Module):\n",
    "    \n",
    "    def __init__(self, voc_size, emb_size):\n",
    "        super(Glove, self).__init__()\n",
    "        # Embeddings for center words\n",
    "        self.center_embedding  = nn.Embedding(voc_size, emb_size)\n",
    "        # Embeddings for context (outside) words\n",
    "        self.outside_embedding = nn.Embedding(voc_size, emb_size)\n",
    "        \n",
    "        # Bias terms for center words\n",
    "        self.center_bias       = nn.Embedding(voc_size, 1) \n",
    "        # Bias terms for context (outside) words\n",
    "        self.outside_bias      = nn.Embedding(voc_size, 1)\n",
    "    \n",
    "    def forward(self, center, outside, coocs, weighting):\n",
    "        # Retrieve the embeddings for the center words\n",
    "        center_embeds  = self.center_embedding(center)  # (batch_size, 1, emb_size)\n",
    "        # Retrieve the embeddings for the outside words\n",
    "        outside_embeds = self.outside_embedding(outside)  # (batch_size, 1, emb_size)\n",
    "        \n",
    "        # Retrieve and squeeze the bias for the center words\n",
    "        center_bias    = self.center_bias(center).squeeze(1)\n",
    "        # Retrieve and squeeze the bias for the outside words\n",
    "        target_bias    = self.outside_bias(outside).squeeze(1)\n",
    "        \n",
    "        # Compute the dot product of center and outside word embeddings\n",
    "        inner_product  = outside_embeds.bmm(center_embeds.transpose(1, 2)).squeeze(2)\n",
    "        \n",
    "        # Compute the GloVe loss as the weighted squared error between\n",
    "        # the log co-occurrence counts and the model predictions (dot product + biases)\n",
    "        loss = weighting * torch.pow(inner_product + center_bias + target_bias - coocs, 2)\n",
    "        \n",
    "        # Return the sum of the losses for the batch\n",
    "        return torch.sum(loss)\n"
   ]
  },
  {
   "cell_type": "code",
   "execution_count": 89,
   "metadata": {},
   "outputs": [],
   "source": [
    "#test our system\n",
    "voc_size = len(vocabs)\n",
    "emb_size = 2\n",
    "model = Glove(voc_size, emb_size)"
   ]
  },
  {
   "cell_type": "code",
   "execution_count": 90,
   "metadata": {},
   "outputs": [],
   "source": [
    "x_tensor = torch.LongTensor(x)\n",
    "y_tensor = torch.LongTensor(y)\n",
    "cooc_tensor = torch.FloatTensor(cooc)\n",
    "weighting_tensor = torch.FloatTensor(weighting)"
   ]
  },
  {
   "cell_type": "code",
   "execution_count": 91,
   "metadata": {},
   "outputs": [],
   "source": [
    "loss = model(x_tensor, y_tensor, cooc_tensor, weighting_tensor)"
   ]
  },
  {
   "cell_type": "code",
   "execution_count": 92,
   "metadata": {},
   "outputs": [
    {
     "data": {
      "text/plain": [
       "tensor(2.0351, grad_fn=<SumBackward0>)"
      ]
     },
     "execution_count": 92,
     "metadata": {},
     "output_type": "execute_result"
    }
   ],
   "source": [
    "loss"
   ]
  },
  {
   "cell_type": "code",
   "execution_count": 93,
   "metadata": {},
   "outputs": [],
   "source": [
    "# Set the batch size and embedding size\n",
    "batch_size     = 10  # mini-batch size\n",
    "embedding_size = 2  # set to 2 for visualization purposes\n",
    "\n",
    "# Initialize the GloVe model with the specified vocabulary size and embedding size\n",
    "model          = Glove(voc_size, embedding_size)\n",
    "\n",
    "# Initialize the loss function and the optimizer\n",
    "criterion = nn.CrossEntropyLoss()  \n",
    "# Initialize the optimizer (Adam) with the model parameters and a learning rate of 0.001\n",
    "optimizer = optim.Adam(model.parameters(), lr=0.001)\n"
   ]
  },
  {
   "cell_type": "markdown",
   "metadata": {},
   "source": [
    "#### Training Loop for GloVe Model\n",
    "\n",
    "The code block represents the training loop for the GloVe model. During each epoch, a batch of data is prepared and processed through the model. The loss is computed based on the difference between the predicted and actual co-occurrence probabilities. The model's parameters are updated using backpropagation with the Adam optimizer. The loss for every thousandth epoch is printed, allowing monitoring of the training progress. The total training time and average training loss are printed after training completes, providing insights into the model's performance and efficiency.\n"
   ]
  },
  {
   "cell_type": "code",
   "execution_count": 117,
   "metadata": {},
   "outputs": [
    {
     "name": "stdout",
     "output_type": "stream",
     "text": [
      "Epoch: 1000 | cost: 1.878838 | time: 0m 0s\n",
      "Epoch: 2000 | cost: 0.926595 | time: 0m 0s\n",
      "Epoch: 3000 | cost: 0.616542 | time: 0m 0s\n",
      "Epoch: 4000 | cost: 0.353751 | time: 0m 0s\n",
      "Epoch: 5000 | cost: 0.831147 | time: 0m 0s\n",
      "Epoch: 6000 | cost: 0.398903 | time: 0m 0s\n",
      "Epoch: 7000 | cost: 0.520872 | time: 0m 0s\n",
      "Epoch: 8000 | cost: 0.365187 | time: 0m 0s\n",
      "Epoch: 9000 | cost: 0.263848 | time: 0m 0s\n",
      "Epoch: 10000 | cost: 0.748213 | time: 0m 0s\n",
      "Total training time: 1m 54s\n",
      "Average training loss: 0.724803\n"
     ]
    }
   ],
   "source": [
    "num_epochs = 10000\n",
    "total_loss = 0.0  # Initialize total loss\n",
    "\n",
    "total_start = time.time()  # Start time for total training time\n",
    "# Training\n",
    "for epoch in range(num_epochs):\n",
    "    \n",
    "    start = time.time()\n",
    "    \n",
    "    input_batch, target_batch, cooc_batch, weighting_batch = random_batch(batch_size, corpus, skip_grams, X_ik, weighting_dic)\n",
    "    input_batch  = torch.LongTensor(input_batch)         #[batch_size, 1]\n",
    "    target_batch = torch.LongTensor(target_batch)        #[batch_size, 1]\n",
    "    cooc_batch   = torch.FloatTensor(cooc_batch)         #[batch_size, 1]\n",
    "    weighting_batch = torch.FloatTensor(weighting_batch) #[batch_size, 1]\n",
    "    \n",
    "    optimizer.zero_grad()\n",
    "    loss = model(input_batch, target_batch, cooc_batch, weighting_batch)\n",
    "    \n",
    "    loss.backward()\n",
    "    optimizer.step()\n",
    "    # Accumulate loss\n",
    "    total_loss += loss.item()\n",
    "    \n",
    "    end = time.time()\n",
    "    \n",
    "    # Calculate time taken for the epoch\n",
    "    epoch_mins, epoch_secs = divmod(end - start, 60)\n",
    "\n",
    "    # Print the loss and time taken for the epoch\n",
    "    if (epoch + 1) % 1000 == 0:\n",
    "        print(f\"Epoch: {epoch + 1} | cost: {loss:.6f} | time: {epoch_mins:.0f}m {epoch_secs:.0f}s\")\n",
    "\n",
    "# Compute average loss\n",
    "average_loss = total_loss / num_epochs\n",
    "\n",
    "total_end = time.time()  # End time for total training time\n",
    "total_mins, total_secs = divmod(total_end - total_start, 60)\n",
    "\n",
    "# Print the total training time and average loss\n",
    "print(f\"Total training time: {total_mins:.0f}m {total_secs:.0f}s\")\n",
    "print(f\"Average training loss: {average_loss:.6f}\")"
   ]
  },
  {
   "attachments": {},
   "cell_type": "markdown",
   "metadata": {},
   "source": [
    "## 5. Plot the embeddings\n"
   ]
  },
  {
   "cell_type": "code",
   "execution_count": 118,
   "metadata": {},
   "outputs": [
    {
     "data": {
      "text/plain": [
       "['since',\n",
       " 'rationalisation',\n",
       " 'partners',\n",
       " 'account',\n",
       " 'reasonable',\n",
       " 'drives',\n",
       " 'protect',\n",
       " 'plants',\n",
       " '5p',\n",
       " 'us']"
      ]
     },
     "execution_count": 118,
     "metadata": {},
     "output_type": "execute_result"
    }
   ],
   "source": [
    "#list of vocabs\n",
    "vocabs[:10]"
   ]
  },
  {
   "cell_type": "code",
   "execution_count": 119,
   "metadata": {},
   "outputs": [],
   "source": [
    "word = vocabs[0]"
   ]
  },
  {
   "cell_type": "code",
   "execution_count": 120,
   "metadata": {},
   "outputs": [
    {
     "data": {
      "text/plain": [
       "0"
      ]
     },
     "execution_count": 120,
     "metadata": {},
     "output_type": "execute_result"
    }
   ],
   "source": [
    "#numericalization\n",
    "id = word2index[word]\n",
    "id"
   ]
  },
  {
   "cell_type": "code",
   "execution_count": 121,
   "metadata": {},
   "outputs": [
    {
     "data": {
      "text/plain": [
       "tensor([0])"
      ]
     },
     "execution_count": 121,
     "metadata": {},
     "output_type": "execute_result"
    }
   ],
   "source": [
    "id_tensor = torch.LongTensor([id])\n",
    "id_tensor"
   ]
  },
  {
   "cell_type": "code",
   "execution_count": 122,
   "metadata": {},
   "outputs": [
    {
     "data": {
      "text/plain": [
       "(tensor([[ 0.3289, -0.1395]], grad_fn=<EmbeddingBackward0>),\n",
       " tensor([[ 0.0063, -0.9862]], grad_fn=<EmbeddingBackward0>))"
      ]
     },
     "execution_count": 122,
     "metadata": {},
     "output_type": "execute_result"
    }
   ],
   "source": [
    "#get the embedding by averaging\n",
    "v_embed = model.center_embedding(id_tensor)\n",
    "u_embed = model.outside_embedding(id_tensor)\n",
    "\n",
    "v_embed, u_embed"
   ]
  },
  {
   "cell_type": "code",
   "execution_count": 123,
   "metadata": {},
   "outputs": [
    {
     "data": {
      "text/plain": [
       "tensor([[ 0.1676, -0.5629]], grad_fn=<DivBackward0>)"
      ]
     },
     "execution_count": 123,
     "metadata": {},
     "output_type": "execute_result"
    }
   ],
   "source": [
    "#average to get the word embedding\n",
    "word_embed = (v_embed + u_embed) / 2\n",
    "word_embed"
   ]
  },
  {
   "cell_type": "code",
   "execution_count": 124,
   "metadata": {},
   "outputs": [],
   "source": [
    "#let's write a function to get embedding given a word\n",
    "def get_embed(word):\n",
    "    id_tensor = torch.LongTensor([word2index[word]])\n",
    "    v_embed = model.center_embedding(id_tensor)\n",
    "    u_embed = model.outside_embedding(id_tensor) \n",
    "    word_embed = (v_embed + u_embed) / 2 \n",
    "    x, y = word_embed[0][0].item(), word_embed[0][1].item()\n",
    "\n",
    "    return x, y"
   ]
  },
  {
   "cell_type": "code",
   "execution_count": 125,
   "metadata": {},
   "outputs": [
    {
     "data": {
      "image/png": "[encoded data removed]",
      "text/plain": [
       "<Figure size 600x300 with 1 Axes>"
      ]
     },
     "metadata": {},
     "output_type": "display_data"
    }
   ],
   "source": [
    "plt.figure(figsize=(6, 3))\n",
    "for i, word in enumerate(vocabs[40:80]):\n",
    "    x, y = get_embed(word)\n",
    "    plt.scatter(x, y)\n",
    "    plt.annotate(word, xy=(x, y), xytext=(5, 2), textcoords='offset points')\n",
    "plt.show()"
   ]
  },
  {
   "cell_type": "markdown",
   "metadata": {},
   "source": [
    "## 6. Cosine similarity\n",
    "\n",
    "Formally the [Cosine Similarity](https://en.wikipedia.org/wiki/Cosine_similarity) $s$ between two vectors $p$ and $q$ is defined as:\n",
    "\n",
    "$$s = \\frac{p \\cdot q}{||p|| ||q||}, \\textrm{ where } s \\in [-1, 1] $$ \n",
    "\n",
    "If $p$ and $q$ is super similar, the result is 1 otherwise 0."
   ]
  },
  {
   "cell_type": "code",
   "execution_count": 126,
   "metadata": {},
   "outputs": [],
   "source": [
    "government = get_embed('government')\n",
    "diplomatic = get_embed('diplomatic')\n",
    "reporters = get_embed('reporters')"
   ]
  },
  {
   "cell_type": "code",
   "execution_count": 127,
   "metadata": {},
   "outputs": [
    {
     "name": "stdout",
     "output_type": "stream",
     "text": [
      "Similarity between 'business' and 'promotion  0.25696787056824827\n",
      "Similarity between 'business' and 'transactions'  0.8779024894700882\n",
      "Similarity between 'promotion' and 'transactions'  -0.2371672625967855\n"
     ]
    }
   ],
   "source": [
    "def cosine_similarity(A, B):\n",
    "    # Compute the cosine similarity between vectors A and B\n",
    "    dot_product = np.dot(A, B)  # Compute the dot product of A and B\n",
    "    norm_a = np.linalg.norm(A)  # Compute the L2 norm (Euclidean norm) of vector A\n",
    "    norm_b = np.linalg.norm(B)  # Compute the L2 norm (Euclidean norm) of vector B\n",
    "    similarity = dot_product / (norm_a * norm_b)  # Compute the cosine similarity\n",
    "    return similarity  # Return the cosine similarity\n",
    "\n",
    "# Example usage of the cosine_similarity function\n",
    "print(\"Similarity between 'business' and 'promotion \", cosine_similarity(np.array(government), np.array(diplomatic)))  \n",
    "print(\"Similarity between 'business' and 'transactions' \",cosine_similarity(np.array(government), np.array(reporters))) \n",
    "print(\"Similarity between 'promotion' and 'transactions' \",cosine_similarity(np.array(diplomatic), np.array(reporters))) "
   ]
  },
  {
   "cell_type": "code",
   "execution_count": 128,
   "metadata": {},
   "outputs": [],
   "source": [
    "word2index_path = './config_model_files/word2index_GloVe_Scratch.json'  # Define the file path for word2index\n",
    "index2word_path = './config_model_files/index2word_GloVe_Scratch.json'  # Define the file path for index2word\n",
    "\n",
    "with open(word2index_path, 'w') as file:\n",
    "    json.dump(word2index, file)  # Save the word2index dictionary to a JSON file\n",
    "\n",
    "with open(index2word_path, 'w') as file:\n",
    "    json.dump(index2word, file)  # Save the index2word dictionary to a JSON file\n"
   ]
  },
  {
   "cell_type": "markdown",
   "metadata": {},
   "source": [
    "## 7. Saving the Preprocessed Corpus\n",
    "\n",
    "After preprocessing the corpus (tokenization, cleaning, etc.), it's good practice to save it for future use. This section involves saving the preprocessed corpus to a text file. Each sentence in the corpus is joined into a single string and written to the file, with sentences separated by newlines. This format is useful for:\n",
    "\n",
    "- Preserving the preprocessed data for future analysis or processing.\n",
    "- Using the corpus directly in applications that require text input.\n",
    "- Ensuring consistency and reproducibility in different stages of the project or in different environments.\n",
    "\n",
    "The corpus is saved in a plain text format, making it easily accessible and readable.\n"
   ]
  },
  {
   "cell_type": "code",
   "execution_count": 129,
   "metadata": {},
   "outputs": [],
   "source": [
    "corpus_path = './config_model_files/corpus_GloVe_Scratch.txt'  # Define the file path for the corpus\n",
    "\n",
    "with open(corpus_path, 'w') as file:\n",
    "    for sentence in corpus:\n",
    "        file.write(' '.join(sentence) + '\\n')  # Write each sentence to the file, separated by a newline\n"
   ]
  },
  {
   "cell_type": "markdown",
   "metadata": {},
   "source": [
    "#### Saving Word2Vec Model and Configuration\n",
    "\n",
    "To ensure the preservation and reusability of our Word2Vec model, we save both its state and configuration to separate files. This is a common practice for archiving and sharing machine learning models. The process involves:\n",
    "\n",
    "1. **Saving Model State**: We save the state of the Word2Vec model using `torch.save()`. This includes the learned parameters and embeddings.\n",
    "\n",
    "2. **Saving Configuration**: We save the model's configuration, such as vocabulary size (`voc_size`) and embedding size (`emb_size`), to a JSON file. This configuration is useful for understanding the model's architecture and for initializing a new model with the same settings.\n",
    "\n",
    "After saving, we print the paths to the saved files for reference.\n"
   ]
  },
  {
   "cell_type": "code",
   "execution_count": 130,
   "metadata": {},
   "outputs": [
    {
     "name": "stdout",
     "output_type": "stream",
     "text": [
      "Model saved to ./config_model_files/word2vec_model_GloVe_Scratch.pth\n",
      "Configuration saved to ./config_model_files/word2vec_config_GloVe_Scratch.json\n"
     ]
    }
   ],
   "source": [
    "# Model parameters\n",
    "voc_size = len(word2index)\n",
    "emb_size = emb_size  # or whatever was our configuration\n",
    "\n",
    "# Save the model state and configuration\n",
    "model_path = './config_model_files/word2vec_model_GloVe_Scratch.pth'\n",
    "config_path = './config_model_files/word2vec_config_GloVe_Scratch.json'\n",
    "torch.save(model.state_dict(), model_path)\n",
    "\n",
    "with open(config_path, 'w') as config_file:\n",
    "    config = {'voc_size': voc_size, 'emb_size': emb_size}\n",
    "    json.dump(config, config_file)\n",
    "\n",
    "print(f\"Model saved to {model_path}\")\n",
    "print(f\"Configuration saved to {config_path}\")\n"
   ]
  },
  {
   "cell_type": "markdown",
   "metadata": {},
   "source": [
    "## 8. Inference (Loading Model with an Application of Query-Based Passage Retrieval from Trained Corpus)\n",
    "\n",
    "here's a simplified high-level overview of the process in less than five steps:\n",
    "\n",
    "- Preprocess and Embed: Convert the input query and each passage in the corpus into numerical embeddings by averaging their word embeddings.\n",
    "- Calculate Similarities: Compute the similarity between the query's embedding and each passage's embedding using the dot product.\n",
    "- Rank Passages: Rank the passages based on their similarity scores with the query.\n",
    "- Retrieve Top Passages: Select and return the top N passages that have the highest similarity scores with the query."
   ]
  },
  {
   "cell_type": "markdown",
   "metadata": {},
   "source": [
    "#### Loading Word-Index Mappings"
   ]
  },
  {
   "cell_type": "code",
   "execution_count": 139,
   "metadata": {},
   "outputs": [],
   "source": [
    "word2index_path = './config_model_files/word2index_GloVe_Scratch.json'  \n",
    "index2word_path = './config_model_files/index2word_GloVe_Scratch.json' \n",
    "\n",
    "with open(word2index_path, 'r') as file:\n",
    "    word2index = json.load(file)  # Load the word2index dictionary from the JSON file\n",
    "\n",
    "with open(index2word_path, 'r') as file:\n",
    "    index2word = json.load(file)  # Load the index2word dictionary from the JSON file\n"
   ]
  },
  {
   "cell_type": "markdown",
   "metadata": {},
   "source": [
    "#### Loading the Preprocessed Corpus"
   ]
  },
  {
   "cell_type": "code",
   "execution_count": 140,
   "metadata": {},
   "outputs": [],
   "source": [
    "corpus_path = './config_model_files/corpus_GloVe_Scratch.txt' \n",
    "def load_corpus(file_path):\n",
    "    corpus = []\n",
    "    with open(file_path, 'r', encoding='utf-8') as file:\n",
    "        for line in file:\n",
    "            # Strip removes leading/trailing whitespace\n",
    "            line = line.strip()\n",
    "            # print(line)\n",
    "            if line:  # Add non-empty lines to the corpus\n",
    "                corpus.append(line)\n",
    "    return corpus\n",
    "\n",
    "# Load the corpus\n",
    "corpus = load_corpus(corpus_path)\n"
   ]
  },
  {
   "cell_type": "code",
   "execution_count": 141,
   "metadata": {},
   "outputs": [
    {
     "data": {
      "text/plain": [
       "500"
      ]
     },
     "execution_count": 141,
     "metadata": {},
     "output_type": "execute_result"
    }
   ],
   "source": [
    "len(corpus)"
   ]
  },
  {
   "cell_type": "markdown",
   "metadata": {},
   "source": [
    "#### Loading Word2Vec Model and Configuration\n",
    "\n",
    "To use a previously trained Word2Vec model, we load both its configuration and state dictionary. This allows us to recreate the model with the same architecture and settings as before. The process involves:\n",
    "\n",
    "1. **Loading Configuration**: We load the model's configuration from a JSON file, which includes parameters such as vocabulary size (`voc_size`) and embedding size (`emb_size`).\n",
    "\n",
    "2. **Initializing Model**: We initialize a new Word2Vec model with the loaded configuration, creating a model that matches the original settings.\n",
    "\n",
    "3. **Loading Model State**: We load the state dictionary (learned parameters and embeddings) into the initialized model. This restores the model's weights to their trained values.\n",
    "\n",
    "4. **Setting Model to Evaluation Mode**: We set the loaded model to evaluation mode using `model.eval()`. This mode is typically used when making predictions rather than training.\n",
    "\n",
    "After loading, we confirm the successful loading of the model.\n"
   ]
  },
  {
   "cell_type": "code",
   "execution_count": 142,
   "metadata": {},
   "outputs": [
    {
     "name": "stdout",
     "output_type": "stream",
     "text": [
      "Model loaded successfully\n"
     ]
    }
   ],
   "source": [
    "model_path = './config_model_files/word2vec_model_Glove_Scratch.pth'\n",
    "config_path = './config_model_files/word2vec_config_Glove_Scratch.json'\n",
    "\n",
    "# Load the model's configuration from a JSON file\n",
    "with open(config_path, 'r') as config_file:\n",
    "    config = json.load(config_file)\n",
    "\n",
    "# Retrieve the configuration values\n",
    "voc_size = config['voc_size']  # Vocabulary size\n",
    "emb_size = config['emb_size']  # Embedding size\n",
    "\n",
    "# Initialize a new Word2Vec model with the loaded configuration\n",
    "loaded_model = Glove(voc_size, emb_size)\n",
    "\n",
    "# Load the state dictionary (model parameters) into the initialized model\n",
    "loaded_model.load_state_dict(torch.load(model_path))\n",
    "\n",
    "# Set the model to evaluation mode (useful for inference)\n",
    "loaded_model.eval()\n",
    "\n",
    "# Confirm successful model loading\n",
    "print(\"Model loaded successfully\")"
   ]
  },
  {
   "cell_type": "markdown",
   "metadata": {},
   "source": [
    "##### Converts the entire text to lowercase to ensure uniformity of the proprocess we used during the training"
   ]
  },
  {
   "cell_type": "code",
   "execution_count": 143,
   "metadata": {},
   "outputs": [],
   "source": [
    "def preprocess(text):\n",
    "    # Tokenizes the text into words. \n",
    "    tokens = nltk.word_tokenize(text.lower())  \n",
    "    return tokens  # Returns the list of tokens obtained from the input text.\n"
   ]
  },
  {
   "cell_type": "markdown",
   "metadata": {},
   "source": [
    "##### The get_embedding function computes the numerical representation (embedding) of a given text based on the trained model. This representation captures the semantic essence of the text and is used for various NLP tasks such as text similarity, classification, etc. Below is a summary of its key operations:\n",
    "\n",
    "- Tokenization and Preprocessing: The function starts by converting the input text into tokens. \n",
    "\n",
    "- Embedding Calculation: For each token, the function retrieves its corresponding word embedding from the model. It does so by averaging the 'center' and 'outside' embeddings, which provides a comprehensive representation of the word's context and meaning.\n",
    "\n",
    "- Embedding Aggregation: The function then aggregates these individual word embeddings to form a single vector representing the entire text. This is achieved by computing the mean of all word embeddings.\n",
    "\n",
    "- Output Formatting: Finally, the function ensures that the resulting text embedding is a 1-D array, making it suitable for further processing or model input."
   ]
  },
  {
   "cell_type": "code",
   "execution_count": 144,
   "metadata": {},
   "outputs": [],
   "source": [
    "\n",
    "def get_embedding(text, model, word2index):\n",
    "    \"\"\"\n",
    "    Converts a text input to its corresponding average embedding.\n",
    "    \"\"\"\n",
    "    tokens = preprocess(text)  # Preprocess the text to get tokens\n",
    "    embeddings = []\n",
    "\n",
    "    # Retrieve and average the center and outside embeddings for the token\n",
    "    for token in tokens:\n",
    "        index = word2index.get(token, word2index.get('<UNK>'))\n",
    "        word_tensor = torch.LongTensor([index])\n",
    "\n",
    "        embed_center = model.center_embedding(word_tensor)\n",
    "        embed_outside = model.outside_embedding(word_tensor)\n",
    "        embed = (embed_center + embed_outside) / 2\n",
    "        embeddings.append(embed.detach().numpy())\n",
    "    \n",
    "    # Average the embeddings to get a single embedding for the entire text\n",
    "    if embeddings:\n",
    "        embeddings = np.array(embeddings)\n",
    "        text_embedding = np.mean(embeddings, axis=0)\n",
    "\n",
    "    # Make sure the embedding is a 1-D array\n",
    "    text_embedding = text_embedding.flatten()  # Flatten the array to ensure it's 1-D\n",
    "    \n",
    "    return text_embedding\n"
   ]
  },
  {
   "cell_type": "markdown",
   "metadata": {},
   "source": [
    "##### The retrieve_top_passages function is designed to find passages in a corpus that are most similar to a given query.  Here's a summary of its key operations:\n",
    "\n",
    "- Query Embedding: Converts the input query into a numerical embedding.\n",
    "\n",
    "- Similarity Computation: For each passage in the corpus, the function computes its embedding and then calculates the similarity to the query embedding. The similarity is typically measured using the dot product, representing how close or relevant a passage is to the query.\n",
    "\n",
    "- Passage Ranking: The passages are then ranked based on their similarity scores. The higher the score, the more relevant the passage is to the query.\n",
    "\n",
    "- Top Passages Retrieval: Finally, the function retrieves the top N passages with the highest similarity scores."
   ]
  },
  {
   "cell_type": "code",
   "execution_count": 145,
   "metadata": {},
   "outputs": [],
   "source": [
    "def retrieve_top_passages(query, corpus, model, word2index, top_n=10):\n",
    "    \"\"\"\n",
    "    Computes the dot product between the input query and each passage in the corpus,\n",
    "    and retrieves the top N most similar passages.\n",
    "    \"\"\"\n",
    "    # Convert the input query into its embedding\n",
    "    query_embedding = get_embedding(query, model, word2index)\n",
    "    similarities = []\n",
    "\n",
    "    # Compute similarity between the query embedding and each passage's embedding in the corpus\n",
    "\n",
    "    for passage in corpus:\n",
    "        passage_embedding = get_embedding(passage, model, word2index)\n",
    "        # Dot product as a similarity measure\n",
    "        similarity = np.dot(query_embedding, passage_embedding)\n",
    "        similarities.append(similarity)\n",
    "\n",
    "    # Sort the indices of passages based on their similarity scores\n",
    "    sorted_indices = sorted(range(len(similarities)), key=lambda i: similarities[i], reverse=True)\n",
    "    top_indices = sorted_indices[:top_n]\n",
    "\n",
    "    # Retrieve the top N passages along with their similarity scores\n",
    "    top_passages = [(corpus[idx], (similarities[idx]) * 100) for idx in top_indices]\n",
    "    \n",
    "    return top_passages"
   ]
  },
  {
   "cell_type": "code",
   "execution_count": 167,
   "metadata": {},
   "outputs": [
    {
     "name": "stdout",
     "output_type": "stream",
     "text": [
      "Search query:  taiwan had a trade trade surplus of how much billion dlrs last year .\n",
      "Similar Passages from Corpus with similarity score\n",
      "1 the u . s . \t\t\t\t\t\t 9.595312178134918\n",
      "2 `` u . s . \t\t\t\t\t\t 9.080776572227478\n",
      "3 in addition , new u . s . \t\t\t\t\t\t 7.6857611536979675\n",
      "4 `` the u . s . has excessive expectations . \t\t\t\t\t\t 6.9304198026657104\n",
      "5 suppliers and remove quotas on u . s . \t\t\t\t\t\t 6.646671891212463\n",
      "6 an indication of the u . s . \t\t\t\t\t\t 6.1864010989665985\n",
      "7 beef and citrus imports . \t\t\t\t\t\t 5.822623521089554\n",
      "8 other countries are already cutting into the u . s . market share here . \t\t\t\t\t\t 4.851796478033066\n",
      "9 `` it will remain very edgy money . \t\t\t\t\t\t 4.767434298992157\n",
      "10 u . s . feedgrain sales will also drop if japan opens up its beef imports , since japan depends almost entirely on feedgrain imports , mainly from the u . s . , japanese officials said . \t\t\t\t\t\t 4.6802520751953125\n"
     ]
    }
   ],
   "source": [
    "# Example usage with the retrieve_top_passages function\n",
    "query = \"taiwan had a trade trade surplus of how much billion dlrs last year .\"\n",
    "# query = \"japan and thailand business realation?\"\n",
    "# query = 'why asian exporters fear damage from u . s .'\n",
    "print('Search query: ', query)\n",
    "top_passages = retrieve_top_passages(query, corpus, loaded_model, word2index, top_n=10)\n",
    "i = 1\n",
    "print(\"Similar Passages from Corpus with similarity score\")\n",
    "for passage, score in top_passages:\n",
    "    print(i, passage,'\\t\\t\\t\\t\\t\\t', score)\n",
    "    i+= 1"
   ]
  },
  {
   "cell_type": "markdown",
   "metadata": {},
   "source": [
    "The query aimed to extract information about Taiwan's trade surplus in dollars from the previous year.\n",
    "\n",
    "- The model returned passages predominantly related to U.S. trade and economic aspects.\n",
    "- No passage directly provided the specific value of Taiwan's trade surplus, **highlighting an opportunity for the model to improve in fetching precise numerical data and directly answering specific queries.**\n",
    "\n",
    "- The results illustrate the model's general focus on the U.S. in the context of trade and economics, rather than providing the specific information sought in the query about Taiwan's trade surplus."
   ]
  }
 ],
 "metadata": {
  "kernelspec": {
   "display_name": "dsai",
   "language": "python",
   "name": "python3"
  },
  "language_info": {
   "codemirror_mode": {
    "name": "ipython",
    "version": 3
   },
   "file_extension": ".py",
   "mimetype": "text/x-python",
   "name": "python",
   "nbconvert_exporter": "python",
   "pygments_lexer": "ipython3",
   "version": "3.11.4"
  },
  "orig_nbformat": 4,
  "vscode": {
   "interpreter": {
    "hash": "0f2c79af21be9d001248940c049b6176cf8bfb45cabf7aa85848f5cea0f590f6"
   }
  }
 },
 "nbformat": 4,
 "nbformat_minor": 2
}
